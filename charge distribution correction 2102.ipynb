{
 "cells": [
  {
   "cell_type": "code",
   "execution_count": 1,
   "metadata": {
    "collapsed": true
   },
   "outputs": [],
   "source": [
    "import numpy as np\n",
    "import math\n",
    "import matplotlib.pyplot as plt\n",
    "from scipy.optimize import curve_fit\n",
    "from scipy.integrate import odeint\n",
    "\n",
    "%matplotlib inline"
   ]
  },
  {
   "cell_type": "code",
   "execution_count": 2,
   "metadata": {
    "collapsed": true
   },
   "outputs": [],
   "source": [
    "\"\"\"Constants\"\"\"\n",
    "eps0 = 8.854e-12 #[F/m]\n",
    "e = 1.60217662e-19 #elementary charge [C]\n",
    "h = 6.62607004e-34 #Planck's constant [Js]\n",
    "m_e = 9.10938356e-31 #electron mass [kg]"
   ]
  },
  {
   "cell_type": "code",
   "execution_count": 3,
   "metadata": {
    "collapsed": true
   },
   "outputs": [],
   "source": [
    "\"\"\"Material dependant constants:\"\"\"\n",
    "'''Fluid'''\n",
    "fluid_density = 0.164 #helium\n",
    "eta = 3.12e-5 #shear viscosity = kinematic viscosity * denisty of fluid\n",
    "beta = 0 #bulk viscoisty\n",
    "kinematic_viscosity = 3.12e-5/fluid_density\n",
    "eps_rel = 1 #relative permittivity\n",
    "eps = eps0 * eps_rel\n",
    "k = 1/(4*math.pi*eps)\n",
    "\n",
    "'''QDs'''\n",
    "#(InAs/GaAs QDs)\n",
    "Rt = (10*h)/(e**2) #tunneling resistance (made up value)\n",
    "m_eeff = 0.067 * m_e #electron effective mass [kg]\n",
    "m_heff = 0.34 * m_e #hole effective mass [kg]\n",
    "E_g = 0.36 * 1.60217662e-19 #band gap of QD (InAs bulk) [J]\n",
    "\n",
    "\n",
    "'''Inner section'''\n",
    "cap_d = 0.394    #capacitance density in [F/m^2] of inner segment capacitors\n",
    "rho = 3e3 # desity of inner disc material (approxmiate) [kg/m^3]\n",
    "R_c = 1 #capacitor circuit resistance"
   ]
  },
  {
   "cell_type": "code",
   "execution_count": 4,
   "metadata": {
    "collapsed": true
   },
   "outputs": [],
   "source": [
    "\"\"\"Initial parameter functions\"\"\"\n",
    "def seperation_angle(n):\n",
    "    return ( (2*math.pi)/n )\n",
    "\n",
    "def setup_radius(sep, diam, PHI):\n",
    "    return ( (sep + diam)/(2 * math.sin(PHI/2)) )\n",
    "\n",
    "def cog_length( Rp, PHI):\n",
    "    r = ( Rp*math.sin(PHI) )/(4*math.sin(PHI/2))\n",
    "    return r\n",
    "\n",
    "def width( Rp, PHI):\n",
    "    w = ( Rp*math.sin(PHI) )/2\n",
    "    return w\n",
    "\n",
    "def intertia( rho, thc, Rp):\n",
    "    \"\"\"Calculates inertia of inner rotating disk\"\"\"\n",
    "    I = 0.5 * rho * math.pi * thc * ( Rp ** 4 ) #for disc, needs to be changed for cog shape\n",
    "    return I"
   ]
  },
  {
   "cell_type": "code",
   "execution_count": 5,
   "metadata": {
    "collapsed": true
   },
   "outputs": [],
   "source": [
    "\"\"\"Motor setup functions\"\"\"\n",
    "\n",
    "def permanent_charge_magnitude( r, width, cap_d, cap_vol):\n",
    "    \"\"\"Calculates magnitude of total charge stored in inner segment\"\"\"\n",
    "    segment_area = (r/2) * width\n",
    "    capacitance = cap_d * segment_area #capacitance of one segment\n",
    "    stored_charge = capacitance * cap_vol #stored charge in one segment\n",
    "    return stored_charge\n",
    "\n",
    "def permanent_charges( Rp, p , cap_d, cap_vol, width, r):\n",
    "    \"\"\"Initializes permanent charge elements\"\"\"\n",
    "    PCs = {}\n",
    "    for i in range(p):\n",
    "        theta = (2*math.pi/p)*i\n",
    "        xp = Rp*math.cos(theta)\n",
    "        yp = Rp*math.sin(theta)\n",
    "        if i%2 == 0:\n",
    "            p_ch = permanent_charge_magnitude( r, width, cap_d, cap_vol)\n",
    "        else:\n",
    "            p_ch = -permanent_charge_magnitude( r, width, cap_d, cap_vol)\n",
    "        PCs.update({i:[xp,yp,theta, p_ch]}) #dictionary containing all info of permanent charges\n",
    "    return PCs\n",
    "\n",
    "def quantum_dots( n, e, noc):\n",
    "    \"\"\"Initializes quantum dot elements\"\"\"\n",
    "    QDs = {}\n",
    "    for i in range(n):\n",
    "        fi = (2*math.pi/n)*i\n",
    "        x = R*math.cos(fi)\n",
    "        y = R*math.sin(fi)\n",
    "        if i in range(1, n, 4): #will result in +ve torque ==> turning anti-clockwise\n",
    "            q_ch = noc*e\n",
    "        elif i in range(3, n, 4):\n",
    "            q_ch = -noc*e\n",
    "        else:\n",
    "            q_ch = 0\n",
    "        QDs.update({i:[x,y,fi,q_ch]}) #dictionary containing all info on QDs\n",
    "    return QDs"
   ]
  },
  {
   "cell_type": "code",
   "execution_count": 6,
   "metadata": {
    "collapsed": true
   },
   "outputs": [],
   "source": [
    "\"\"\"Active motor functions\"\"\"\n",
    "\n",
    "def tangential_component(k , n, e, R, Rp, gamma, noc, width, r):\n",
    "    \"\"\"Calculates the tangential coulomb force on one inner charge\"\"\"\n",
    "    F_c = 0; #coulomb force\n",
    "    F_t = 0 #tangential component of coulumb force\n",
    "    QDs = quantum_dots(n, e, noc) #calls function to initialize QDs\n",
    "    for i in range(n):\n",
    "        Q = QDs[i] #dictionary section on ith QD\n",
    "        ri = math.sqrt(2*R*(R-r0)*(1-math.cos(QDs[i][2]-gamma))+r0**2) #distance between QD and permanent charge edge\n",
    "        ric = math.sqrt(  ( (Rp-(r/4) )**2) + (R**2) - 2*(Rp-(r/4))*R*math.cos(QDs[i][2]-gamma) ) #distance between QD and permanent charge center\n",
    "        d = 2*R*math.sin((QDs[i][2]-gamma)/2)\n",
    "        '''Alpha is alpha at edge of permanent charge'''\n",
    "        if ((((r0+(r/4))**2)+(ri**2)-(d**2))/(2*(r0+(r/4))*ri)) > 1 or ((((r0+(r/4))**2)+(ri**2)-(d**2))/(2*(r0+(r/4))*ri)) < -1 : #accounts for computational error\n",
    "            alpha = 0\n",
    "        else:\n",
    "            alpha = math.acos((((r0+(r/4))**2)+(ri**2)-(d**2))/(2*(r0+(r/4))*ri)) #angle to tangential in which force vector acts\n",
    "        if i > n/2:\n",
    "            alpha = -alpha        \n",
    "        '''Alphac is alpha at center of permanent charge'''\n",
    "        if ((((r0+(r/4))**2)+(ric**2)-(d**2))/(2*(r0+(r/4))*ric)) > 1 or ((((r0+(r/4))**2)+(ric**2)-(d**2))/(2*(r0+(r/4))*ric)) < -1 : #accounts for computational error\n",
    "            alphac = 0\n",
    "        else:\n",
    "            alphac = math.acos((((r0+(r/4))**2)+(ric**2)-(d**2))/(2*(r0+(r/4))*ric)) #angle to tangential in which force vector acts\n",
    "        if i > n/2:\n",
    "            alphac = -alphac\n",
    "        ex_minus = ri*math.sin(alpha) - (width/2)\n",
    "        ex_plus = ri*math.sin(alpha) + (width/2)\n",
    "        ey_minus = ri*math.cos(alpha)\n",
    "        ey_plus = ri*math.cos(alpha) + (r/2)\n",
    "        sigma = PCs[0][3]/(width*r)\n",
    "        f = force(ex_minus, ex_plus, ey_minus, ey_plus)\n",
    "        F_c = k*sigma*Q[3]*f #coulomb force between permanent charge and QD\n",
    "        F_t += F_c*math.sin(alphac)\n",
    "    return F_t\n",
    "\n",
    "def force( c1, c2, c3, c4):\n",
    "    a1 = (c4 + math.sqrt((c4**2)+(c1**2)))*(c3 + math.sqrt((c3**2)+(c2**2)))\n",
    "    b1 = (c4 + math.sqrt((c4**2)+(c2**2)))*(c3 + math.sqrt((c3**2)+(c1**2)))\n",
    "    a2 = (c2 + math.sqrt((c2**2)+(c3**2)))*(c1 + math.sqrt((c1**2)+(c4**2)))\n",
    "    b2 = (c2 + math.sqrt((c2**2)+(c4**2)))*(c1 + math.sqrt((c1**2)+(c3**2)))\n",
    "    I1 = math.log(a1/b1)\n",
    "    I2 = math.log(a2/b2)\n",
    "    f = math.sqrt( (I1**2) + (I2**2) )\n",
    "    return f\n",
    "\n",
    "def torque (F_t, Rp, p, r):\n",
    "    \"\"\"Computes torque on enitre inner rotor\"\"\"\n",
    "    torque_radius = Rp - r/4\n",
    "    torque = F_t * torque_radius * p\n",
    "    return torque\n",
    "\n",
    "def angular_velocity(angle_increment, v_ang, i, torque, inertia):\n",
    "    \"\"\"Calculates the angular velocity after rotating the angle increment\"\"\"\n",
    "    w_f = 0\n",
    "    w_f = math.sqrt( (v_ang[i])**2 + (2*torque*angle_increment)/inertia )\n",
    "    return w_f\n",
    "\n",
    "def time_step(inertia, torque, v_ang):\n",
    "    \"\"\"Calculates time taken to reach new v_ang\"\"\"\n",
    "    tau = (v_ang[i] - v_ang[i-1])* inertia/torque\n",
    "    return tau\n",
    "\n",
    "def Charging_voltage_QD( n, e, Cdot):\n",
    "    \"\"\"Constant voltage required to maintain QD charge\"\"\"\n",
    "    QDs = quantum_dots(n,e, noc) #calls function to initialize QDs\n",
    "    voltage = ( QDs[0][3]/(2*Cdot) ) #voltage needed to add one electron\n",
    "    return voltage\n",
    "\n",
    "def QD_capacitance( eps, d):\n",
    "    Cdot = 2*math.pi*eps*d\n",
    "    return Cdot\n",
    "\n",
    "def Charging_time( R, C):\n",
    "    \"Computes charging time for dot and capacitor\"\n",
    "    tc = 4 * R * C\n",
    "    return tc\n",
    "\n",
    "def Input_energy (n, e, Cdot, Rt, h, m_eeff, diam, E_g, m_heff, noc, cap_vol, R_c):\n",
    "    \"\"\"Input power for each step\"\"\"\n",
    "    #for capacitor charging\n",
    "    E_cC = (PCs[0][3] * cap_vol)\n",
    "    #for -ve charged dots, energy corresponds to that needed to the required voltage to cause electrons to tunnel into the dot\n",
    "    E_cQD = (Charging_voltage_QD( n, e, Cdot) * noc * e )\n",
    "    #for +ve charged dots, energy corresponds to laser energy plus voltage emergy to make electrons tunnel out of the dot\n",
    "    #laser energy depends on bandgap/energy level seperation\n",
    "    if (noc % 2 == 0):\n",
    "        J = noc/2\n",
    "    else:\n",
    "        J = (noc + 1)/2\n",
    "    \n",
    "    E_l = E_g + ((h**2)*J/(8*m_eeff*(diam**2))) + ((h**2)*J/(8*m_heff*(diam**2)))\n",
    "    #print( E_cQD )\n",
    "    #print( E_cC )\n",
    "    E_intotal = (E_cQD * n) + ( (n/2) * (E_l + E_cC) )\n",
    "    return E_intotal\n",
    "\n",
    "def Output_power(angv, torque):\n",
    "    return angv * torque\n",
    "\n",
    "def Output_energy(angv, I):\n",
    "    E_out = 0.5 * I * (angv**2)\n",
    "    return E_out\n",
    "\n",
    "def efficiency(E_in, E_out):\n",
    "    eff = (E_out/E_in)\n",
    "    return eff"
   ]
  },
  {
   "cell_type": "code",
   "execution_count": 7,
   "metadata": {
    "collapsed": true
   },
   "outputs": [],
   "source": [
    "\"\"\"Mathematical functions\"\"\"\n",
    "\n",
    "def func(x, A, B, C, D, E, F, G, H, J, K, L):\n",
    "    return A * (x**10) + B * (x**9) + C * (x**8)+ D * (x**7) + E * (x**6) + F * (x**5) + G * (x**4) + H * (x**3) + J * (x**2) + K * x + L \n",
    "\n",
    "def solvr( Y, t, params):\n",
    "    const, A, B, C, D, E, F, G, H, J, K, L = params\n",
    "    return [ Y[1], ( A * (Y[0]**10) + B * (Y[0]**9) + C * (Y[0]**8)+ D * (Y[0]**7) + E * (Y[0]**6) + F * (Y[0]**5) + G * (Y[0]**4) + H * (Y[0]**3) + J * (Y[0]**2) + K * Y[0] + L - const * Y[1]) ]"
   ]
  },
  {
   "cell_type": "code",
   "execution_count": 8,
   "metadata": {
    "collapsed": true
   },
   "outputs": [],
   "source": [
    "\"\"\"Initial parameters:\"\"\"\n",
    "'''QDs'''\n",
    "diam = 10e-9 #diameter of QDs [m]\n",
    "sep = 130e-9 #seperation of QDs [m] (corresponds to motor dead zone)\n",
    "n = 80   #number of QDs [no unit]\n",
    "PHI = seperation_angle(n) #angle of seperation between QDs\n",
    "R = setup_radius(sep, diam, PHI)  #radius of QD setup [m] 5.36290830288e-07\n",
    "noc = 6 #number of charge carriers contributing to net charge of QD\n",
    "'''Inner section'''\n",
    "p = int(n/2)   #number of permanent charges (PCs) [no unit]\n",
    "r0 = 110e-9\n",
    "Rp = R - r0   #radius of rotating disc [m]\n",
    "w = width( Rp, PHI )#cog \"tooth\"/capacitor arm width [m]\n",
    "r = cog_length( Rp, PHI)    #length of the cog shaft [m]\n",
    "thc = 30e-9   #approximate thickeness of inner disc [m]\n",
    "cap_vol = 2   #applied voltage to capacitors in inner disck (\"permanent charges\"/charged segments) [V]\n",
    "I = intertia( rho, thc, Rp) #inertia of inner rotating disk\n",
    "\n",
    "'''Medium'''\n",
    "constant =  p * 1.08037675928e-11  #coefficient of drag force function"
   ]
  },
  {
   "cell_type": "code",
   "execution_count": 11,
   "metadata": {},
   "outputs": [
    {
     "data": {
      "image/png": "[encoded data removed]",
      "text/plain": [
       "<matplotlib.figure.Figure at 0x1edcff7fe48>"
      ]
     },
     "metadata": {},
     "output_type": "display_data"
    }
   ],
   "source": [
    "\"\"\"Main function\"\"\"\n",
    "time = 0\n",
    "step = math.pi*(360/n)/180 #angle between each QD, angle required for one step\n",
    "angle_increment = step/100\n",
    "PCs = permanent_charges( Rp, p , cap_d, cap_vol, w, r) #initializes permanent charges\n",
    "\n",
    "\"\"\"Graph of torque function to be approximated\"\"\"\n",
    "fig = plt.figure(figsize=(12, 9))\n",
    "ax1 = fig.add_subplot(111)\n",
    "ax1.set_xlabel('gamma', fontsize = '20')\n",
    "ax1.set_ylabel('torque', fontsize = '20')\n",
    "ax1.set_xlim( 0 , step )\n",
    "ax1.set_ylim( 0 , 5e-14)\n",
    "\n",
    "\"\"\"Computation of 'true' torque \"\"\"\n",
    "i = 0\n",
    "T = []\n",
    "gamma_list = []\n",
    "for gamma in np.arange(0, step, angle_increment): #iterates angle increment until one step is completed\n",
    "    gamma_list.append( gamma )\n",
    "    F_t = tangential_component(k , n, e, R, Rp, gamma, noc, w, r)\n",
    "    T.append( torque(F_t, Rp, p, r) ) #calculates torque acting on inner rotor\n",
    "    ax1.scatter(gamma, T[i] , color = 'r') #plots torque vs angle rotated\n",
    "    i += 1 #needed to keep track of T array\n",
    "\n",
    "plt.show()"
   ]
  },
  {
   "cell_type": "code",
   "execution_count": 12,
   "metadata": {},
   "outputs": [
    {
     "name": "stderr",
     "output_type": "stream",
     "text": [
      "C:\\Users\\Pauli\\Anaconda3\\lib\\site-packages\\matplotlib\\cbook\\deprecation.py:106: MatplotlibDeprecationWarning: Adding an axes using the same arguments as a previous axes currently reuses the earlier instance.  In a future version, a new instance will always be created and returned.  Meanwhile, this warning can be suppressed, and the future behavior ensured, by passing a unique label to each axes instance.\n",
      "  warnings.warn(message, mplDeprecation, stacklevel=1)\n"
     ]
    },
    {
     "data": {
      "image/png": "[encoded data removed]",
      "text/plain": [
       "<matplotlib.figure.Figure at 0x1edcf888518>"
      ]
     },
     "metadata": {},
     "output_type": "display_data"
    }
   ],
   "source": [
    "\"\"\"Approximate torque function\"\"\"\n",
    "popt, pcov = curve_fit(func, gamma_list, T)\n",
    "\n",
    "A = popt[0]\n",
    "B = popt[1]\n",
    "C = popt[2]\n",
    "D = popt[3]\n",
    "E = popt[4]\n",
    "F = popt[5]\n",
    "G = popt[6]\n",
    "H = popt[7]\n",
    "J = popt[8]\n",
    "K = popt[9]\n",
    "L = popt[10]\n",
    "\n",
    "fig2 = plt.figure(figsize=(12, 9))\n",
    "bx1 = fig2.add_subplot(111)\n",
    "bx2 = fig2.add_subplot(111)\n",
    "bx1.set_xlabel('gamma', fontsize = '20')\n",
    "bx1.set_ylabel('torque', fontsize = '20')\n",
    "bx1.set_ylim( 0 , 5e-14)\n",
    "for i in np.arange( 0, int(step/angle_increment) ):\n",
    "    bx1.scatter( gamma_list[i], T[i], color = 'r' )\n",
    "    bx2.scatter( gamma_list[i], ( func(gamma_list[i], A, B, C, D, E, F, G, H, J, K, L) ), color= 'g' )\n",
    "plt.show()"
   ]
  },
  {
   "cell_type": "code",
   "execution_count": 13,
   "metadata": {
    "collapsed": true
   },
   "outputs": [],
   "source": [
    "\"\"\"Solve ODE for motor with viscous drag\"\"\"\n",
    "params = [ (constant*((Rp-(r/4))/2))/I , A/I, B/I, C/I, D/I, E/I, F/I, G/I, H/I, J/I, K/I, L/I ]\n",
    "tStop = 1\n",
    "tInc = 1e-5\n",
    "t_array = np.arange( 0, tStop, tInc)\n",
    "sol = odeint( solvr, [0,0], t_array, args=(params,) )"
   ]
  },
  {
   "cell_type": "code",
   "execution_count": 14,
   "metadata": {},
   "outputs": [
    {
     "name": "stdout",
     "output_type": "stream",
     "text": [
      "0.07853981633974483\n",
      "100000\n",
      "515\n"
     ]
    }
   ],
   "source": [
    "keep_i = 0\n",
    "for i in np.arange( 0, len(t_array) ):\n",
    "    if sol[i][0] >= step:\n",
    "        keep_i = i\n",
    "        break\n",
    "    else:\n",
    "        keep_i = len(t_array)\n",
    "\n",
    "print (step)\n",
    "print (len(t_array))\n",
    "print (keep_i)\n",
    "snipped_sol = np.zeros((keep_i, 2))\n",
    "snipped_sol = sol[:keep_i]\n",
    "#print (snipped_sol)"
   ]
  },
  {
   "cell_type": "code",
   "execution_count": 15,
   "metadata": {},
   "outputs": [
    {
     "data": {
      "image/png": "[encoded data removed]",
      "text/plain": [
       "<matplotlib.figure.Figure at 0x1edcfc78be0>"
      ]
     },
     "metadata": {},
     "output_type": "display_data"
    }
   ],
   "source": [
    "\"\"\"Plot solution\"\"\"\n",
    "fig3 = plt.figure(figsize=(12, 9))\n",
    "cx1 = fig3.add_subplot(211)\n",
    "cx1.set_xlabel('time')\n",
    "cx1.set_ylabel('gamma')\n",
    "cx1.set_ylim( 0 , step )\n",
    "cx1.set_xlim( 0 , t_array[keep_i] )\n",
    "cx2 = fig3.add_subplot(212)\n",
    "cx2.set_xlabel('time')\n",
    "cx2.set_ylabel('w')\n",
    "cx2.set_ylim( 0 , 150 )\n",
    "cx2.set_xlim( 0 , t_array[keep_i] )\n",
    "for i in np.arange( 0, len(snipped_sol) ):\n",
    "    cx1.scatter( t_array[i], snipped_sol[i][0], color='r' )\n",
    "    cx2.scatter( t_array[i], snipped_sol[i][1], color='b' )\n",
    "plt.show()"
   ]
  },
  {
   "cell_type": "code",
   "execution_count": 16,
   "metadata": {},
   "outputs": [
    {
     "data": {
      "image/png": "[encoded data removed]",
      "text/plain": [
       "<matplotlib.figure.Figure at 0x1edd0180748>"
      ]
     },
     "metadata": {},
     "output_type": "display_data"
    }
   ],
   "source": [
    "fig4 = plt.figure(figsize=(12, 9))\n",
    "dx1 = fig4.add_subplot(111)\n",
    "dx1.set_xlabel('gamma')\n",
    "dx1.set_ylabel('w')\n",
    "dx1.set_ylim( 0 , 150 )\n",
    "dx1.set_xlim( 0 , PHI)\n",
    "\n",
    "for i in np.arange( 0, len(snipped_sol) ):\n",
    "    dx1.scatter( snipped_sol[i][0], snipped_sol[i][1], color='r' )\n",
    "    \n",
    "plt.show()"
   ]
  },
  {
   "cell_type": "code",
   "execution_count": 17,
   "metadata": {},
   "outputs": [
    {
     "data": {
      "image/png": "[encoded data removed]",
      "text/plain": [
       "<matplotlib.figure.Figure at 0x1edd2905b38>"
      ]
     },
     "metadata": {},
     "output_type": "display_data"
    }
   ],
   "source": [
    "fig5 = plt.figure(figsize=(12, 9))\n",
    "ex1 = fig5.add_subplot(111)\n",
    "ex1.set_xlabel('t')\n",
    "ex1.set_ylabel('P_out')\n",
    "ex1.set_ylim( 0 , 7e-12 )\n",
    "ex1.set_xlim( 0 , t_array[keep_i] )\n",
    "p_out_list = []\n",
    "p_out = 0\n",
    "for i in np.arange( 0, len(snipped_sol) ):\n",
    "    p_out = Output_power(snipped_sol[i][1], func(snipped_sol[i][0], A, B, C, D, E, F, G, H, J, K, L) )\n",
    "    #print (p_out)\n",
    "    ex1.scatter( t_array[i], p_out, color='r' )\n",
    "    p_out_list.append(p_out)\n",
    "    \n",
    "plt.show()\n"
   ]
  },
  {
   "cell_type": "code",
   "execution_count": 18,
   "metadata": {},
   "outputs": [
    {
     "name": "stdout",
     "output_type": "stream",
     "text": [
      "1.1941503789e-15\n"
     ]
    }
   ],
   "source": [
    "E_OUT = 0\n",
    "for i in np.arange( 0, len(snipped_sol) ):\n",
    "    E_OUT += p_out_list[i] * tInc\n",
    "\n",
    "print (E_OUT)"
   ]
  },
  {
   "cell_type": "code",
   "execution_count": 19,
   "metadata": {},
   "outputs": [
    {
     "name": "stdout",
     "output_type": "stream",
     "text": [
      "1.7291155697617676e-12\n"
     ]
    }
   ],
   "source": [
    "\"\"\"Computes input power for each step\"\"\"\n",
    "Cdot = QD_capacitance( eps, diam)\n",
    "E_in = Input_energy (n, e, Cdot, Rt, h, m_eeff, diam, E_g, m_heff, noc, cap_vol, R_c)\n",
    "print (E_in) #total input energy"
   ]
  },
  {
   "cell_type": "code",
   "execution_count": 20,
   "metadata": {},
   "outputs": [
    {
     "name": "stdout",
     "output_type": "stream",
     "text": [
      "0.0690613397844\n"
     ]
    }
   ],
   "source": [
    "\"\"\"Efficiency\"\"\"\n",
    "eff = efficiency(E_in, E_OUT)\n",
    "print (eff*100)"
   ]
  }
 ],
 "metadata": {
  "kernelspec": {
   "display_name": "Python 3",
   "language": "python",
   "name": "python3"
  },
  "language_info": {
   "codemirror_mode": {
    "name": "ipython",
    "version": 3
   },
   "file_extension": ".py",
   "mimetype": "text/x-python",
   "name": "python",
   "nbconvert_exporter": "python",
   "pygments_lexer": "ipython3",
   "version": "3.6.3"
  }
 },
 "nbformat": 4,
 "nbformat_minor": 2
}
