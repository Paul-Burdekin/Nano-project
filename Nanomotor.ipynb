{
 "cells": [
  {
   "cell_type": "code",
   "execution_count": 12,
   "metadata": {
    "collapsed": true
   },
   "outputs": [],
   "source": [
    "import numpy as np\n",
    "import math\n",
    "import matplotlib.pyplot as plt\n",
    "%matplotlib inline\n",
    "\n",
    "#defined -ve as clockwise and +ve as anti-clockwise rotation"
   ]
  },
  {
   "cell_type": "code",
   "execution_count": 13,
   "metadata": {
    "collapsed": true
   },
   "outputs": [],
   "source": [
    "\"\"\"initial parameters\"\"\"\n",
    "\n",
    "QDs = 24 #number of quantum dots\n",
    "voltage = 1 #applied voltage to capacitors in inner disck (\"permanent charges\"/charged segments)\n",
    "capacitance_density = 0.394 #F/m^2, of inner segment capacitors\n",
    "Qpos = 2 * 1.6e-19 #charge of positively charged quantum dot\n",
    "Qneg = 2 *1.6e-19 #absolute value of charge of negative quantum dot\n",
    "r0 = 110e-9 #distance between outer edge of inner disc and center of quantum dot directly above \n",
    "thickness = 30e-9 #approximate thickeness of inner disc\n",
    "density = 3e3 #kg/m^3, desity of inner disc material (approxmiate)\n",
    "epsilon = 8.854e-12 #currently set to epsilon 0\n",
    "Stoppage_time = 30e-9 #double quoted 15ns, time spent stopped between steps, time needed to discharge and charge quantum dot\n",
    "increment_step = math.pi/180 #one degree, recaclulate forces etc after motor has rotated by this step"
   ]
  },
  {
   "cell_type": "code",
   "execution_count": 14,
   "metadata": {
    "collapsed": true
   },
   "outputs": [],
   "source": [
    "\"\"\"functions\"\"\"\n",
    "\n",
    "def intertia( density, thickness, R, r0):\n",
    "\t\"\"\"Calculates inertia of inner rotating disk\"\"\"\n",
    "\tI = 0.5 * density * math.pi * thickness * ( ( R-r0 ) ** 4 )\n",
    "\treturn I \n",
    "\n",
    "def permanent_charge_magnitude( R, r0, QDs, capacitance_density, voltage):\n",
    "    \"\"\"Calculates magnitude of total charge stored in inner segment\"\"\"\n",
    "    segment_area = ( 3 * math.pi * ( ( R-r0 ) ** 2 ) )/ (2 * QDs) #see notebook for deriviation\n",
    "    capacitance = capacitance_density * segment_area #capacitance of one segment\n",
    "    stored_charge = capacitance * voltage #stored charge in one segment\n",
    "    return stored_charge\n",
    "\n",
    "def permanent_charges( Qfixed_pos, Qfixed_neg, QDs):\n",
    "\t\"\"\"List of permanent charges of inner segments\"\"\"\n",
    "\tQ = [] \n",
    "\tcharge = 0\n",
    "    #half as many inner segments as quantum dots\n",
    "\tfor m in range( 0, int( QDs / 2 ) ): #'top' segment +ve (Q[0]), and all even numbered segments\n",
    "\t\tif ( m % 2 == 0):\n",
    "\t\t\tcharge = Qfixed_pos\n",
    "\t\telse:\n",
    "\t\t\tcharge = Qfixed_neg #odd numbered segments = -ve\n",
    "\t\tQ.append( (-1) * charge )\n",
    "\treturn Q\n",
    "\n",
    "def distances( R, r0, QDs, phi):\n",
    "\t\"\"\"Works out distances between 'permanent' segment charge and all quantum dots\"\"\"\n",
    "    #inner segments are not point charges! Need to adjust this to be more realistic\n",
    "\tdist =[]\n",
    "\tfor i in range(0, QDs):\n",
    "\t\tdist.append( math.sqrt( 2 * ((R **2) - R * r0) * (1 - math.cos( i * phi )) + (r0 **2) ) ) #see notebook for deriviation\n",
    "\treturn dist\n",
    "\n",
    "def perpendicular_component_fraction( R, Phi, r, r0):\n",
    "\t\"\"\"List of sins needed to correct force into tangential component to calculate torque\"\"\"\n",
    "\tsins = []\n",
    "\tfor n in range( 0, int(QDs/2) +1 ): #first half of quantum dots\n",
    "\t\tif (((2 * R * math.sin( (n * Phi)/2 ) )**2) - (r[n]**2) - (r0**2) )/( -2 * r[n] * r0 ) > 1 or (((2 * R * math.sin( (n * Phi)/2 ) )**2) - (r[n]**2) - (r0**2) )/( -2 * r[n] * r0 ) < -1 :\n",
    "\t\t\tsins.append( 0 ) #corrects for computer error\n",
    "\t\telse:\n",
    "\t\t\tsins.append( math.sin( math.acos( (((2 * R * math.sin( (n * Phi)/2 ) )**2) - (r[n]**2) - (r0**2) )/( -2 * r[n] * r0 ) ) ) )\n",
    "\tfor n in range( int(QDs/2) +1, QDs): #second half of qunatum dots, sin is -ve to keep with convention of -ve = clockwise\n",
    "\t\tsins.append( -1 * math.sin( math.acos( (((2 * R * math.sin( (n * Phi)/2 ) )**2) - (r[n]**2) - (r0**2) )/( -2 * r[n] * r0 ) ) ) )\n",
    "\treturn sins\n",
    "\n",
    "def temp_charges( m, Qpos, Qneg, QDs): \n",
    "\t\"\"\"Charges of QDs, the order is with respect to permanent charge Q[m], with m starting from 0\"\"\"\n",
    "\tq = []\n",
    "\tcharge = 0\n",
    "\tfor n in range( 0, QDs, 4):\n",
    "\t\tq.append( 0 ) #dot 'directly above' each segment = 0 \n",
    "\t\tif (m % 2 == 0): #next dot along is charged opposite to current segment of interest\n",
    "\t\t\tq.append( -1 * Qneg ) #-vely charged QD\n",
    "\t\telse:\n",
    "\t\t\tq.append( Qpos ) #-vely charge QD\n",
    "\n",
    "\t\tq.append( 0 ) #next dot is 0 as above next segment\n",
    "\t\tif ( q[n+1] < 0): #next dot is charged oppositely to the previous QD\n",
    "\t\t\tq.append( Qpos )\n",
    "\t\telse:\n",
    "\t\t\tq.append( (-1 * Qneg) )\n",
    "\treturn q\n",
    "\n",
    "def Coulomb_force( Qpos, Qneg, r, Q, QDs, epsilon, sins):\n",
    "\t\"\"\"The summed coulomb torque on inner circle.  -ve is defined as turning clockwise, +ve as anticlockwise\"\"\"\n",
    "\ttorque = 0\n",
    "\tq= temp_charges( 0, Qpos, Qneg, QDs) #charges QDs\n",
    "\tfor n in range( 0, QDs):\n",
    "\t\ttorque += q[n] * sins[n] / r[n] #adds up from each QD w.r.t. one segment\n",
    "\ttorque =  (R-r0) * (QDs/2) * ( Q[0] / (4 * math.pi * epsilon) ) * torque #total torque on entire inner disc \n",
    "\treturn torque\n",
    "\n",
    "def time_per_increment( phi, Inertia, torque):\n",
    "    \"\"\"Time taken to turn angle phi\"\"\"\n",
    "    tau = 0\n",
    "    tau = math.sqrt( ( 2 * phi * Inertia ) / abs(torque) ) #from rotational equivalent of SUVAT\n",
    "    return tau"
   ]
  },
  {
   "cell_type": "code",
   "execution_count": 15,
   "metadata": {},
   "outputs": [],
   "source": [
    "phi = (2 * math.pi ) / QDs #angle between each quantum dot\n",
    "R = (70e-9)/( math.sin( phi/2 ) ) #inner disc radius, 70e-9 comes from distance between each QD needed to prevent tunneling\n",
    "Inertia = intertia( density, thickness, R, r0) #intertia of inner disc\n",
    "Qfixed_pos = permanent_charge_magnitude( R, r0, QDs, capacitance_density, voltage ) #charge of positive segment\n",
    "Qfixed_neg = Qfixed_pos #absolute value of charge of negative segmentr = distances( R, r0, QDs, phi)"
   ]
  },
  {
   "cell_type": "code",
   "execution_count": 16,
   "metadata": {},
   "outputs": [],
   "source": [
    "r = distances( R, r0, QDs, phi)\n",
    "Q = permanent_charges( Qfixed_pos, Qfixed_neg, QDs)\n",
    "sins = perpendicular_component_fraction( R, phi, r, r0)\n",
    "torque = Coulomb_force( Qpos, Qneg, r, Q, QDs, epsilon, sins)\n",
    "tau = time_per_increment( phi, Inertia, torque)\n",
    "period = tau * QDs"
   ]
  },
  {
   "cell_type": "code",
   "execution_count": 17,
   "metadata": {},
   "outputs": [
    {
     "name": "stdout",
     "output_type": "stream",
     "text": [
      "Radius =  [1.1e-07, 1.6637245348801708e-07, 2.708457789098976e-07, 3.82125728208298e-07, 4.906280294878659e-07, 5.924453120408606e-07, 6.850778982263932e-07, 7.665976816540682e-07, 8.354325765478855e-07, 8.903052179549791e-07, 9.302182632711936e-07, 9.544546400939975e-07, 9.625816605756547e-07, 9.544546400939975e-07, 9.302182632711937e-07, 8.903052179549792e-07, 8.354325765478857e-07, 7.665976816540685e-07, 6.850778982263934e-07, 5.924453120408608e-07, 4.906280294878662e-07, 3.8212572820829817e-07, 2.708457789098979e-07, 1.6637245348801738e-07]\n",
      "Torque =  1.380842011850625e-21\n",
      "Time per step = 4.20746478903537e-05\n",
      "Period =  0.001009791549368489\n"
     ]
    }
   ],
   "source": [
    "print (\"Torque = \", torque)\n",
    "print ( \"Time per step =\" ,tau )\n",
    "print ( \"Period = \" , period)"
   ]
  }
 ],
 "metadata": {
  "kernelspec": {
   "display_name": "Python 3",
   "language": "python",
   "name": "python3"
  },
  "language_info": {
   "codemirror_mode": {
    "name": "ipython",
    "version": 3
   },
   "file_extension": ".py",
   "mimetype": "text/x-python",
   "name": "python",
   "nbconvert_exporter": "python",
   "pygments_lexer": "ipython3",
   "version": "3.6.2"
  }
 },
 "nbformat": 4,
 "nbformat_minor": 2
}
