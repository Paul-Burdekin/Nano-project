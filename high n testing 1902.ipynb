{
 "cells": [
  {
   "cell_type": "code",
   "execution_count": 1,
   "metadata": {
    "collapsed": true
   },
   "outputs": [],
   "source": [
    "import numpy as np\n",
    "import math\n",
    "import matplotlib.pyplot as plt\n",
    "from scipy.optimize import curve_fit\n",
    "from scipy.integrate import odeint\n",
    "\n",
    "%matplotlib inline"
   ]
  },
  {
   "cell_type": "code",
   "execution_count": 2,
   "metadata": {
    "collapsed": true
   },
   "outputs": [],
   "source": [
    "\"\"\"Constants\"\"\"\n",
    "eps0 = 8.854e-12 #[F/m]\n",
    "eps_rel = 1 #relative permittivity\n",
    "eps = eps0 * eps_rel\n",
    "k = 1/(4*math.pi*eps)\n",
    "e = 1.60217662e-19 #elementary charge [C]\n",
    "h = 6.62607004e-34 #Planck's constant [Js]\n",
    "m_e = 9.10938356e-31 #electron mass [kg]"
   ]
  },
  {
   "cell_type": "code",
   "execution_count": 27,
   "metadata": {
    "collapsed": true
   },
   "outputs": [],
   "source": [
    "\"\"\"Initial parameter functions\"\"\"\n",
    "def seperation_angle(n):\n",
    "    return ( (2*math.pi)/n )\n",
    "\n",
    "def setup_radius(sep, diam, PHI):\n",
    "    return ( (sep + diam)/(2 * math.sin(PHI/2)) )\n",
    "\n",
    "def cog_length( Rp, PHI):\n",
    "    r = ( Rp*math.sin(PHI) )/(4*math.sin(PHI/2))\n",
    "    return r\n",
    "\n",
    "def width( Rp, PHI):\n",
    "    w = ( Rp*math.sin(PHI) )/2\n",
    "    return w\n",
    "\n",
    "def intertia( rho, thc, Rp):\n",
    "    \"\"\"Calculates inertia of inner rotating disk\"\"\"\n",
    "    I = 0.5 * rho * math.pi * thc * ( Rp ** 4 ) #for disc, needs to be changed for cog shape\n",
    "    return I"
   ]
  },
  {
   "cell_type": "code",
   "execution_count": 4,
   "metadata": {
    "collapsed": true
   },
   "outputs": [],
   "source": [
    "\"\"\"Motor setup functions\"\"\"\n",
    "\n",
    "def permanent_charge_magnitude( r, width, cap_d, cap_vol):\n",
    "    \"\"\"Calculates magnitude of total charge stored in inner segment\"\"\"\n",
    "    segment_area = r * width #see notebook for deriviation (not correct for capacitor arms)\n",
    "    capacitance = cap_d * segment_area #capacitance of one segment\n",
    "    stored_charge = capacitance * cap_vol #stored charge in one segment\n",
    "    return stored_charge\n",
    "\n",
    "def permanent_charges( Rp, p , cap_d, cap_vol, width, r):\n",
    "    \"\"\"Initializes permanent charge elements\"\"\"\n",
    "    PCs = {}\n",
    "    for i in range(p):\n",
    "        theta = (2*math.pi/p)*i\n",
    "        xp = Rp*math.cos(theta)\n",
    "        yp = Rp*math.sin(theta)\n",
    "        if i%2 == 0:\n",
    "            p_ch = permanent_charge_magnitude( r, width, cap_d, cap_vol)\n",
    "        else:\n",
    "            p_ch = -permanent_charge_magnitude( r, width, cap_d, cap_vol)\n",
    "        PCs.update({i:[xp,yp,theta, p_ch]}) #dictionary containing all info of permanent charges\n",
    "    return PCs\n",
    "\n",
    "def quantum_dots( n, e, noc):\n",
    "    \"\"\"Initializes quantum dot elements\"\"\"\n",
    "    QDs = {}\n",
    "    for i in range(n):\n",
    "        fi = (2*math.pi/n)*i\n",
    "        x = R*math.cos(fi)\n",
    "        y = R*math.sin(fi)\n",
    "        if i in range(1, n, 4): #will result in +ve torque ==> turning anti-clockwise\n",
    "            q_ch = noc*e\n",
    "        elif i in range(3, n, 4):\n",
    "            q_ch = -noc*e\n",
    "        else:\n",
    "            q_ch = 0\n",
    "        QDs.update({i:[x,y,fi,q_ch]}) #dictionary containing all info on QDs\n",
    "    return QDs"
   ]
  },
  {
   "cell_type": "code",
   "execution_count": 5,
   "metadata": {
    "collapsed": true
   },
   "outputs": [],
   "source": [
    "\"\"\"Active motor functions\"\"\"\n",
    "\n",
    "def tangential_component(n, e, R, r0, gamma, noc):\n",
    "    \"\"\"Calculates the tangential coulomb force on one inner charge\"\"\"\n",
    "    F_c = 0; #coulomb force\n",
    "    F_t = 0 #tangential component of coulumb force\n",
    "    QDs = quantum_dots(n, e, noc) #calls function to initialize QDs\n",
    "    for i in range(n):\n",
    "        Q = QDs[i] #dictionary section on ith QD\n",
    "        ri = math.sqrt(2*R*(R-r0)*(1-math.cos(QDs[i][2]-gamma))+r0**2) #distance between QD and permanent charge\n",
    "        F_c = k*PCs[0][3]*Q[3]/(ri**2) #coulomb force between permanent charge and QD\n",
    "        d = 2*R*math.sin((QDs[i][2]-gamma)/2)\n",
    "        if (((r0**2)+(ri**2)-(d**2))/(2*r0*ri)) > 1 or (((r0**2)+(ri**2)-(d**2))/(2*r0*ri)) < -1 : #accounts for computational error\n",
    "            alpha = 0\n",
    "        else:\n",
    "            alpha = math.acos(((r0**2)+(ri**2)-(d**2))/(2*r0*ri)) #angle to tangential in which force vector acts\n",
    "        if i > n/2:\n",
    "            alpha = -alpha\n",
    "        F_t += F_c*math.sin(alpha)\n",
    "    return F_t\n",
    "\n",
    "def torque (F_t, Rp, p):\n",
    "    \"\"\"Computes torque on enitre inner rotor\"\"\"\n",
    "    torque = F_t * Rp * p\n",
    "    return torque\n",
    "\n",
    "def angular_velocity(angle_increment, v_ang, i, torque, inertia):\n",
    "    \"\"\"Calculates the angular velocity after rotating the angle increment\"\"\"\n",
    "    w_f = 0\n",
    "    w_f = math.sqrt( (v_ang[i])**2 + (2*torque*angle_increment)/inertia )\n",
    "    return w_f\n",
    "\n",
    "def time_step(inertia, torque, v_ang):\n",
    "    \"\"\"Calculates time taken to reach new v_ang\"\"\"\n",
    "    tau = (v_ang[i] - v_ang[i-1])* inertia/torque\n",
    "    return tau"
   ]
  },
  {
   "cell_type": "code",
   "execution_count": 28,
   "metadata": {
    "collapsed": true
   },
   "outputs": [],
   "source": [
    "'''Inner section'''\n",
    "cap_d = 0.394    #capacitance density in [F/m^2] of inner segment capacitors\n",
    "rho = 3e3 # desity of inner disc material (approxmiate) [kg/m^3]\"\"\"Initial parameters:\"\"\"\n",
    "'''Test lists'''\n",
    "n_list = []\n",
    "p_list = []\n",
    "phi_list = []\n",
    "R_list = []\n",
    "Rp_list = []\n",
    "width_list = []\n",
    "r_list = []\n",
    "I_list = []\n",
    "color_list = ['b', 'g', 'r', 'c', 'm', 'y']\n",
    "\n",
    "'''QDs'''\n",
    "diam = 10e-9 #diameter of QDs [m]\n",
    "sep = 130e-9 #seperation of QDs [m] (corresponds to motor dead zone)\n",
    "noc = 6 #number of charge carriers contributing to net charge of QD\n",
    "'''Inner section'''\n",
    "r0 = 110e-9\n",
    "thc = 30e-9   #approximate thickeness of inner disc [m]\n",
    "cap_vol = 1   #applied voltage to capacitors in inner disck (\"permanent charges\"/charged segments) [V]\n",
    "i=0\n",
    "for n in np.arange(4, 200, 4):\n",
    "    PHI = seperation_angle(n) #angle of seperation between QDs\n",
    "    phi_list.append(PHI)\n",
    "    R = setup_radius(sep, diam, PHI)  #radius of QD setup [m] 5.36290830288e-07\n",
    "    R_list.append(R)\n",
    "    Rp = R - r0   #radius of rotating disc [m]\n",
    "    Rp_list.append(Rp)\n",
    "    w = width( Rp, PHI ) #cog \"tooth\"/capacitor arm width [m]\n",
    "    width_list.append(w)\n",
    "    r = cog_length( Rp, PHI)    #length of the cog shaft [m]\n",
    "    r_list.append(r)\n",
    "    I = intertia( rho, thc, Rp) #inertia of inner rotating disk\n",
    "    I_list.append(I)\n",
    "    p = int(n/2)\n",
    "    p_list.append(p)\n",
    "    n_list.append(n)"
   ]
  },
  {
   "cell_type": "code",
   "execution_count": 29,
   "metadata": {},
   "outputs": [
    {
     "data": {
      "image/png": "[encoded data removed]",
      "text/plain": [
       "<matplotlib.figure.Figure at 0x1d34bdbbdd8>"
      ]
     },
     "metadata": {},
     "output_type": "display_data"
    }
   ],
   "source": [
    "\"\"\"Main function\"\"\"\n",
    "time = 0\n",
    "\n",
    "\"\"\"Graph of torque function to be approximated\"\"\"\n",
    "fig = plt.figure(figsize=(12, 18))\n",
    "ax1 = fig.add_subplot(211)\n",
    "ax2 = fig.add_subplot(212)\n",
    "ax1.set_xlabel('n', fontsize = '20')\n",
    "ax1.set_ylabel('initial_torque', fontsize = '20')\n",
    "ax2.set_xlabel('n', fontsize = '20')\n",
    "ax2.set_ylabel('inertia', fontsize = '20')\n",
    "ax1.set_ylim( 0 , 1e-11)\n",
    "ax2.set_ylim( 0 , 0.5e-25)\n",
    "\n",
    "\"\"\"Plot\"\"\"\n",
    "j=0\n",
    "for n in np.arange(4, 200, 4):\n",
    "    PCs = permanent_charges( Rp_list[j], p_list[j] , cap_d, cap_vol, width_list[j], r_list[j]) #initializes permanent charges\n",
    "    T = 0\n",
    "    F_t = tangential_component(n_list[j], e, R_list[j], r0, 0, noc)\n",
    "    T = torque(F_t, Rp_list[j], p_list[j]) #calculates torque acting on inner rotor at gamma = 0\n",
    "    ax1.scatter( n_list[j], T, color = 'r')\n",
    "    ax2.scatter( n_list[j], I_list[j], color = 'b')\n",
    "    j+=1\n",
    "    \n",
    "plt.show()"
   ]
  }
 ],
 "metadata": {
  "kernelspec": {
   "display_name": "Python 3",
   "language": "python",
   "name": "python3"
  },
  "language_info": {
   "codemirror_mode": {
    "name": "ipython",
    "version": 3
   },
   "file_extension": ".py",
   "mimetype": "text/x-python",
   "name": "python",
   "nbconvert_exporter": "python",
   "pygments_lexer": "ipython3",
   "version": "3.6.3"
  }
 },
 "nbformat": 4,
 "nbformat_minor": 2
}
