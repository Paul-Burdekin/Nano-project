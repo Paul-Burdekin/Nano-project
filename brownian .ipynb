{
 "cells": [
  {
   "cell_type": "code",
   "execution_count": 63,
   "metadata": {
    "collapsed": true
   },
   "outputs": [],
   "source": [
    "import numpy as np\n",
    "import math\n",
    "import random\n",
    "import matplotlib.pyplot as plt\n",
    "from scipy.optimize import curve_fit\n",
    "from scipy.integrate import odeint\n",
    "\n",
    "%matplotlib inline"
   ]
  },
  {
   "cell_type": "code",
   "execution_count": 64,
   "metadata": {
    "collapsed": true
   },
   "outputs": [],
   "source": [
    "\"\"\"Initial parameter functions\"\"\"\n",
    "def seperation_angle(n):\n",
    "    return ( (2*math.pi)/n )\n",
    "\n",
    "def setup_radius(sep, diam, PHI):\n",
    "    return ( (sep + diam)/(2 * math.sin(PHI/2)) )\n",
    "\n",
    "def cog_length( Rp, PHI, width):\n",
    "    r = (Rp*math.sin(PHI) - width)/(2*math.sin(PHI/2))\n",
    "    return r\n",
    "\n",
    "def width( Rp, PHI):\n",
    "    w = ( Rp*math.sin(PHI) )/2\n",
    "    return w\n",
    "\n",
    "def volume( Rp, r, w, thc, p): #volume of segment\n",
    "    V = ( ((math.pi*( (Rp**2) - ((Rp-r)**2) ))/p) - r*w ) * thc\n",
    "    return V\n",
    "\n",
    "def mass( volume, density): #mass of fluid in segment\n",
    "    M = volume * density\n",
    "    return M\n",
    "\n",
    "def number(mass, atm): #number of fluid particles in segment\n",
    "    N = mass/atm\n",
    "    return N"
   ]
  },
  {
   "cell_type": "code",
   "execution_count": 54,
   "metadata": {
    "collapsed": true
   },
   "outputs": [],
   "source": [
    "def siggy( kb, T, m): #sigma for M-B distribtuion\n",
    "    sig = math.sqrt( (kb*T*(3*math.pi - 8))/(m*math.pi) )\n",
    "    return sig\n",
    "\n",
    "def speed_distribution(m, kb, T, v): #M-B distribution\n",
    "    fv = (( (m)/(2*math.pi*kb*T) )**1.5) * 4*math.pi*(v**2)*math.exp( (-m*(v**2))/(2*kb*T) )\n",
    "    return fv\n",
    "\n",
    "def rand_speed(sd): #generates random speed\n",
    "    boundary = 3*sd\n",
    "    rsp = random.uniform( -boundary, boundary )\n",
    "    return rsp\n",
    "\n",
    "def rand_fv( kb, T, m): #generates random number between 0 and peak of M-B distribution\n",
    "    vp = math.sqrt((2*kb*T)/(m))\n",
    "    fvm = speed_distribution(m, kb, T, vp)\n",
    "    rfv = random.uniform( 0, fvm )\n",
    "    return rfv\n",
    "\n",
    "def direction( v ): #generates random direction, amends speed to velocity component along axis\n",
    "    angle1 = random.uniform( 0, 2*math.pi )\n",
    "    angle2 = random.uniform( 0, math.pi )\n",
    "    vf = v*math.sin(angle1)*math.sin(angle2)\n",
    "    return vf\n",
    "\n",
    "def momentum (m, v): #calculates momentum of particle along axis\n",
    "    p = m*v\n",
    "    return p"
   ]
  },
  {
   "cell_type": "code",
   "execution_count": 59,
   "metadata": {
    "collapsed": true
   },
   "outputs": [],
   "source": [
    "\"\"\"Material dependant constants:\"\"\"\n",
    "'''Fluid'''\n",
    "fluid_density = 0.164 #helium\n",
    "atm = 4.002602 * 1.6605402e-27 #helium atomic mass\n",
    "pressure = 101.325e3\n",
    "temp = 298.15\n",
    "A1 = 1.277\n",
    "kb = 1.38064852e-23 "
   ]
  },
  {
   "cell_type": "code",
   "execution_count": 60,
   "metadata": {},
   "outputs": [
    {
     "name": "stdout",
     "output_type": "stream",
     "text": [
      "219677\n"
     ]
    }
   ],
   "source": [
    "\"\"\"Initial parameters:\"\"\"\n",
    "'''QDs'''\n",
    "diam = 10e-9 #diameter of QDs [m]\n",
    "sep = 130e-9 #seperation of QDs [m] (corresponds to motor dead zone)\n",
    "n = 200   #number of QDs [no unit]\n",
    "PHI = seperation_angle(n) #angle of seperation between QDs\n",
    "R = setup_radius(sep, diam, PHI)  #radius of QD setup [m] 5.36290830288e-07\n",
    "'''Inner section'''\n",
    "p = int(n/2)   #number of permanent charges (PCs) [no unit]\n",
    "r0 = 110e-9\n",
    "Rp = R - r0   #radius of rotating disc [m]\n",
    "w = width( Rp, PHI )#cog \"tooth\"/capacitor arm width [m]\n",
    "r = cog_length( Rp, PHI, w)    #length of the cog shaft [m]\n",
    "thc = 30e-9   #approximate thickeness of inner disc [m]\n",
    "V = volume( Rp, r, w, thc, p)\n",
    "M = mass(V, fluid_density)\n",
    "number_of_particles = int( number(M, atm) )\n",
    "print (number_of_particles)\n"
   ]
  },
  {
   "cell_type": "code",
   "execution_count": 70,
   "metadata": {},
   "outputs": [
    {
     "data": {
      "image/png": "[encoded data removed]",
      "text/plain": [
       "<matplotlib.figure.Figure at 0x1a7a02ddef0>"
      ]
     },
     "metadata": {},
     "output_type": "display_data"
    }
   ],
   "source": [
    "v_list = []\n",
    "sd = siggy( kb, temp, atm)\n",
    "for i in np.arange(0, number_of_particles):\n",
    "    #print(i)\n",
    "    v=0\n",
    "    v = rand_speed(sd)\n",
    "    fv = speed_distribution(atm, kb, temp, v) #probability of particle having speed v\n",
    "    rfv = rand_fv(kb, temp, atm) #random number between 0 and peak probability\n",
    "    if (rfv <= fv): #if random number <= probability of v, than accept v\n",
    "        vdirection = direction( v ) #generate direction\n",
    "        v_list.append( vdirection )\n",
    "plt.hist( v_list, 1000)\n",
    "plt.show()"
   ]
  }
 ],
 "metadata": {
  "kernelspec": {
   "display_name": "Python 3",
   "language": "python",
   "name": "python3"
  },
  "language_info": {
   "codemirror_mode": {
    "name": "ipython",
    "version": 3
   },
   "file_extension": ".py",
   "mimetype": "text/x-python",
   "name": "python",
   "nbconvert_exporter": "python",
   "pygments_lexer": "ipython3",
   "version": "3.6.3"
  }
 },
 "nbformat": 4,
 "nbformat_minor": 2
}
