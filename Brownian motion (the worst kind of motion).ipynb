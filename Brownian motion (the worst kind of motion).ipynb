{
 "cells": [
  {
   "cell_type": "code",
   "execution_count": 1,
   "metadata": {
    "collapsed": true
   },
   "outputs": [],
   "source": [
    "import numpy as np\n",
    "import math\n",
    "import random\n",
    "import matplotlib.pyplot as plt\n",
    "from scipy.optimize import curve_fit\n",
    "from scipy.integrate import odeint\n",
    "\n",
    "%matplotlib inline"
   ]
  },
  {
   "cell_type": "code",
   "execution_count": 2,
   "metadata": {
    "collapsed": true
   },
   "outputs": [],
   "source": [
    "\"\"\"Initial parameter functions\"\"\"\n",
    "def seperation_angle(n):\n",
    "    return ( (2*math.pi)/n )\n",
    "\n",
    "def setup_radius(sep, diam, PHI):\n",
    "    return ( (sep + diam)/(2 * math.sin(PHI/2)) )\n",
    "\n",
    "def cog_length( Rp, PHI, width):\n",
    "    r = (Rp*math.sin(PHI) - width)/(2*math.sin(PHI/2))\n",
    "    return r\n",
    "\n",
    "def width( Rp, PHI):\n",
    "    w = ( Rp*math.sin(PHI) )/2\n",
    "    return w\n",
    "\n",
    "def volume( Rp, r, w, thc, p): #volume of segment\n",
    "    V = ( ((math.pi*( (Rp**2) - ((Rp-r)**2) ))/p) - r*w ) * thc\n",
    "    return V\n",
    "\n",
    "def mass( volume, density): #mass of fluid in segment\n",
    "    M = volume * density\n",
    "    return M\n",
    "\n",
    "def number(mass, atm): #number of fluid particles in segment\n",
    "    N = mass/atm\n",
    "    return N"
   ]
  },
  {
   "cell_type": "code",
   "execution_count": 102,
   "metadata": {
    "collapsed": true
   },
   "outputs": [],
   "source": [
    "def sd( kb, temp, particle_mass, no_of_particles, time_step):\n",
    "    sigma = math.sqrt((4*kb*temp*particle_mass*(no_of_particles**2)*(time_step**2)*(3*math.pi - 8))/(math.pi**5))\n",
    "    return sigma\n",
    "\n",
    "def sd3( kb, temp, particle_mass, no_of_particles, time_step):\n",
    "    sigma = math.sqrt((kb*temp*particle_mass*(no_of_particles**2)*(time_step**2)*(3*math.pi - 8))/(4*math.pi)) * (0.5 - (4/(math.pi**2)))\n",
    "    return sigma\n",
    "\n",
    "def vp( kb, temp, particle_mass):\n",
    "    v = math.sqrt((2*kb*temp)/particle_mass)\n",
    "    return v\n",
    "\n",
    "def mean(kb, temp, particle_mass, no_of_particles, time_step):\n",
    "    v = vp( kb, temp, particle_mass)\n",
    "    mu = (2*v*particle_mass*no_of_particles*time_step)/(math.pi**2)\n",
    "    return mu\n",
    "\n",
    "def rand_fb(kb, temp, particle_mass, no_of_particles, time_step):\n",
    "    mu = mean(kb, temp, particle_mass, no_of_particles, time_step)\n",
    "    sigma = sd3( kb, temp, particle_mass, no_of_particles, time_step)\n",
    "    boundary = 3*sigma\n",
    "    rfb = random.uniform(mu - boundary, mu + boundary)\n",
    "    return rfb\n",
    "\n",
    "def rand_ffb(kb, temp, particle_mass, no_of_particles, time_step, fb):\n",
    "    sigma = sd3( kb, temp, particle_mass, no_of_particles, time_step)\n",
    "    rffb_max = (1**2)/(math.sqrt(2*math.pi*(sigma**2)))\n",
    "    rffb = random.uniform( 0, rffb_max)\n",
    "    return rffb\n",
    "\n",
    "def prob_dist_fb(kb, temp, particle_mass, no_of_particles, time_step, fb):\n",
    "    mu = mean(kb, temp, particle_mass, no_of_particles, time_step)\n",
    "    sigma = sd3( kb, temp, particle_mass, no_of_particles, time_step)\n",
    "    ffb = (1**2)/(math.sqrt(2*math.pi*(sigma**2))) * math.exp( -((fb-mu)**2)/(2*(sigma**2)) )\n",
    "    return ffb"
   ]
  },
  {
   "cell_type": "code",
   "execution_count": 22,
   "metadata": {
    "collapsed": true
   },
   "outputs": [],
   "source": [
    "\"\"\"Material dependant constants:\"\"\"\n",
    "'''Fluid'''\n",
    "fluid_density = 0.164 #helium\n",
    "atm = 4.002602 * 1.6605402e-27 #helium atomic mass\n",
    "pressure = 101.325e3\n",
    "temp = 298.15\n",
    "A1 = 1.277\n",
    "kb = 1.38064852e-23 "
   ]
  },
  {
   "cell_type": "code",
   "execution_count": 103,
   "metadata": {},
   "outputs": [
    {
     "name": "stdout",
     "output_type": "stream",
     "text": [
      "17631\n"
     ]
    }
   ],
   "source": [
    "\"\"\"Initial parameters:\"\"\"\n",
    "'''QDs'''\n",
    "diam = 10e-9 #diameter of QDs [m]\n",
    "sep = 130e-9 #seperation of QDs [m] (corresponds to motor dead zone)\n",
    "n = 24   #number of QDs [no unit]\n",
    "PHI = seperation_angle(n) #angle of seperation between QDs\n",
    "R = setup_radius(sep, diam, PHI)  #radius of QD setup [m] 5.36290830288e-07\n",
    "'''Inner section'''\n",
    "p = int(n/2)   #number of permanent charges (PCs) [no unit]\n",
    "r0 = 110e-9\n",
    "Rp = R - r0   #radius of rotating disc [m]\n",
    "w = width( Rp, PHI )#cog \"tooth\"/capacitor arm width [m]\n",
    "r = cog_length( Rp, PHI, w)    #length of the cog shaft [m]\n",
    "thc = 30e-9   #approximate thickeness of inner disc [m]\n",
    "V = volume( Rp, r, w, thc, p)\n",
    "M = mass(V, fluid_density)\n",
    "number_of_particles = int( number(M, atm) )\n",
    "print (number_of_particles)"
   ]
  },
  {
   "cell_type": "code",
   "execution_count": 104,
   "metadata": {},
   "outputs": [],
   "source": [
    "fb_list = []\n",
    "for j in np.arange(0, 10000, 1):     \n",
    "    accepted = 0\n",
    "    while(accepted == 0):\n",
    "        fb = rand_fb(kb, temp, atm, number_of_particles, 1e-6)\n",
    "        ffb = prob_dist_fb(kb, temp, atm, number_of_particles, 1e-6, fb) #probability of fb\n",
    "        rffb = rand_ffb(kb, temp, atm, number_of_particles, 1e-6, fb) #random number between 0 and peak probability\n",
    "        if (rffb <= ffb): #if random number <= probability of fb, than accept fb\n",
    "            fb_list.append( fb )\n",
    "            accepted = 1"
   ]
  },
  {
   "cell_type": "code",
   "execution_count": 105,
   "metadata": {},
   "outputs": [
    {
     "data": {
      "image/png": "[encoded data removed]",
      "text/plain": [
       "<matplotlib.figure.Figure at 0x18a46c32d30>"
      ]
     },
     "metadata": {},
     "output_type": "display_data"
    }
   ],
   "source": [
    "plt.hist(fb_list, 100)\n",
    "plt.show()"
   ]
  },
  {
   "cell_type": "code",
   "execution_count": null,
   "metadata": {
    "collapsed": true
   },
   "outputs": [],
   "source": [
    "fb_list = []\n",
    "for j in np.arange(0, 10000, 1):     \n",
    "    accepted = 0\n",
    "    while(accepted == 0):\n",
    "        fb = rand_fb(kb, temp, atm, number_of_particles, 1e-6)\n",
    "        ffb = prob_dist_fb(kb, temp, atm, number_of_particles, 1e-6, fb) #probability of fb\n",
    "        rffb = rand_ffb(kb, temp, atm, number_of_particles, 1e-6, fb) #random number between 0 and peak probability\n",
    "        if (rffb <= ffb): #if random number <= probability of fb, than accept fb\n",
    "            fb_list.append( fb )\n",
    "            accepted = 1"
   ]
  },
  {
   "cell_type": "code",
   "execution_count": null,
   "metadata": {
    "collapsed": true
   },
   "outputs": [],
   "source": []
  }
 ],
 "metadata": {
  "kernelspec": {
   "display_name": "Python 3",
   "language": "python",
   "name": "python3"
  },
  "language_info": {
   "codemirror_mode": {
    "name": "ipython",
    "version": 3
   },
   "file_extension": ".py",
   "mimetype": "text/x-python",
   "name": "python",
   "nbconvert_exporter": "python",
   "pygments_lexer": "ipython3",
   "version": "3.6.3"
  }
 },
 "nbformat": 4,
 "nbformat_minor": 2
}
