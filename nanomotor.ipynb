{
 "cells": [
  {
   "cell_type": "code",
   "execution_count": 1,
   "metadata": {
    "collapsed": true
   },
   "outputs": [],
   "source": [
    "import numpy as np\n",
    "import math\n",
    "import matplotlib.pyplot as plt\n",
    "from scipy.optimize import curve_fit\n",
    "from scipy.integrate import odeint\n",
    "\n",
    "%matplotlib inline"
   ]
  },
  {
   "cell_type": "code",
   "execution_count": 2,
   "metadata": {
    "collapsed": true
   },
   "outputs": [],
   "source": [
    "\"\"\"     ====>     initial parameters     <====     \"\"\"\n",
    "'''QDS'''\n",
    "n = 24   #number of QDs [no unit]\n",
    "R = 5.36290830288e-07   #radius of QD setup [m]\n",
    "diam = 20e-9    #diameter of QD (atm made up)[m]\n",
    "ts = 30e-9 #double quoted 15ns, time spent stopped between steps, time needed to discharge and charge quantum dot [s]\n",
    "'''Permanent Charges'''\n",
    "p = 12   #number of permanent charges (PCs) [no unit]\n",
    "Rp = 5.36290830288e-07 - 110e-9   #radius of rotating disc [m]\n",
    "r = Rp/3    #length of the cog shaft [m]\n",
    "thc = 30e-9   #approximate thickeness of inner disc [m]\n",
    "ro = 3e3 # desity of inner disc material (approxmiate) [kg/m^3]\n",
    "vol = 1   #applied voltage to capacitors in inner disck (\"permanent charges\"/charged segments) [V]\n",
    "cd = 0.394    #capacitance density in [F/m^2] of inner segment capacitors\n",
    "'''Other constants'''\n",
    "eps = 8.854e-12 #currently set to epsilon 0 [F/m]\n",
    "k = 1/(4*math.pi*eps)\n",
    "e = 1.60217662e-19 # [C]\n",
    "r0 = R - Rp   #distance between roatating disc and centre of QD setup above [m]\n",
    "eta = 1.81e-5    #shear viscosity\n",
    "beta = 0 #bulk viscoisty"
   ]
  },
  {
   "cell_type": "code",
   "execution_count": 3,
   "metadata": {
    "collapsed": true
   },
   "outputs": [],
   "source": [
    "def intertia( ro, thc, Rp):\n",
    "    \"\"\"Calculates inertia of inner rotating disk\"\"\"\n",
    "    I = 0.5 * ro * math.pi * thc * ( Rp ** 4 )\n",
    "    return I"
   ]
  },
  {
   "cell_type": "code",
   "execution_count": 4,
   "metadata": {
    "collapsed": true
   },
   "outputs": [],
   "source": [
    "def permanent_charge_magnitude( Rp, p , cd, vol):\n",
    "    \"\"\"Calculates magnitude of total charge stored in inner segment\"\"\"\n",
    "    segment_area = (3*math.pi*(Rp**2))/(4*p) #see notebook for deriviation (not correct for capacitor arms)\n",
    "    capacitance = cd * segment_area #capacitance of one segment\n",
    "    stored_charge = capacitance * vol #stored charge in one segment\n",
    "    return stored_charge"
   ]
  },
  {
   "cell_type": "code",
   "execution_count": 5,
   "metadata": {
    "collapsed": true
   },
   "outputs": [],
   "source": [
    "def permanent_charges( Rp, p , cd, vol):\n",
    "    \"\"\"Initializes permanent charge elements\"\"\"\n",
    "    PCs = {}\n",
    "    for i in range(p):\n",
    "        theta = (2*math.pi/p)*i\n",
    "        xp = Rp*math.cos(theta)\n",
    "        yp = Rp*math.sin(theta)\n",
    "        if i%2 == 0:\n",
    "            p_ch = permanent_charge_magnitude( Rp, p , cd, vol)\n",
    "        else:\n",
    "            p_ch = -permanent_charge_magnitude( Rp, p , cd, vol)\n",
    "        PCs.update({i:[xp,yp,theta, p_ch]}) #dictionary containing all info of permanent charges\n",
    "    return PCs"
   ]
  },
  {
   "cell_type": "code",
   "execution_count": 6,
   "metadata": {
    "collapsed": true
   },
   "outputs": [],
   "source": [
    "def quantum_dots( n, e):\n",
    "    \"\"\"Initializes quantum dot elements\"\"\"\n",
    "    QDs = {}\n",
    "    for i in range(n):\n",
    "        fi = (2*math.pi/n)*i\n",
    "        x = R*math.cos(fi)\n",
    "        y = R*math.sin(fi)\n",
    "        if i in range(1, 24, 4): #will result in +ve torque ==> turning anti-clockwise\n",
    "            q_ch = 2*e\n",
    "        elif i in range(3,24,4):\n",
    "            q_ch = -2*e\n",
    "        else:\n",
    "            q_ch = 0\n",
    "        QDs.update({i:[x,y,fi,q_ch]}) #dictionary containing all info on QDs\n",
    "    return QDs"
   ]
  },
  {
   "cell_type": "code",
   "execution_count": 7,
   "metadata": {
    "collapsed": true
   },
   "outputs": [],
   "source": [
    "def tangential_component(n, e, R, r0, gamma):\n",
    "    \"\"\"Calculates the tangential coulomb force on one inner charge\"\"\"\n",
    "    F_c = 0; #coulomb force\n",
    "    F_t = 0 #tangential component of coulumb force\n",
    "    QDs = quantum_dots(n,e) #calls function to initialize QDs\n",
    "    for i in range(n):\n",
    "        Q = QDs[i] #dictionary section on ith QD\n",
    "        ri = math.sqrt(2*R*(R-r0)*(1-math.cos(QDs[i][2]-gamma))+r0**2) #distance between QD and permanent charge\n",
    "        F_c = k*PCs[0][3]*Q[3]/(ri**2) #coulomb force between permanent charge and QD\n",
    "        d = 2*R*math.sin((QDs[i][2]-gamma)/2)\n",
    "        if (((r0**2)+(ri**2)-(d**2))/(2*r0*ri)) > 1 or (((r0**2)+(ri**2)-(d**2))/(2*r0*ri)) < -1 : #accounts for computational error\n",
    "            alpha = 0\n",
    "        else:\n",
    "            alpha = math.acos(((r0**2)+(ri**2)-(d**2))/(2*r0*ri)) #angle to tangential in which force vector acts\n",
    "        if i > n/2:\n",
    "            alpha = -alpha\n",
    "        F_t += F_c*ri*math.sin(alpha) #??????\n",
    "    return F_t"
   ]
  },
  {
   "cell_type": "code",
   "execution_count": 8,
   "metadata": {
    "collapsed": true
   },
   "outputs": [],
   "source": [
    "def torque (F_t, Rp, p):\n",
    "    \"\"\"Computes torque on enitre inner rotor\"\"\"\n",
    "    torque = F_t * Rp * p\n",
    "    return torque"
   ]
  },
  {
   "cell_type": "code",
   "execution_count": 9,
   "metadata": {
    "collapsed": true
   },
   "outputs": [],
   "source": [
    "def angular_velocity(angle_increment, v_ang, i, torque, inertia):\n",
    "    \"\"\"Calculates the angular velocity after rotating the angle increment\"\"\"\n",
    "    w_f = 0\n",
    "    w_f = math.sqrt( (v_ang[i])**2 + (2*torque*angle_increment)/inertia )\n",
    "    return w_f"
   ]
  },
  {
   "cell_type": "code",
   "execution_count": 10,
   "metadata": {
    "collapsed": true
   },
   "outputs": [],
   "source": [
    "def time_step(inertia, torque, v_ang):\n",
    "    \"\"\"Calculates time taken to reach new v_ang\"\"\"\n",
    "    tau = (v_ang[i] - v_ang[i-1])* inertia/torque\n",
    "    return tau"
   ]
  },
  {
   "cell_type": "code",
   "execution_count": 11,
   "metadata": {
    "collapsed": true
   },
   "outputs": [],
   "source": [
    "def viscous_force(n, eta, beta, Rp, r, v_ang, angle_increment, thc, i): #need to update in real time\n",
    "    \"\"\"Determines viscous force acing on rotor\"\"\"\n",
    "    Dw = 0\n",
    "    F_v = 0\n",
    "    constant = (n/2) * ( math.log((Rp/(Rp-r))**2) + ((4*eta)/(3*Rp) + beta*(r))*thc )\n",
    "    #print ( \"constant=\" , constant )\n",
    "    if i < 1:\n",
    "        Dw = 0\n",
    "    else:\n",
    "        Dw = (v_ang[i] - v_ang[i-1])/(angle_increment)\n",
    "    F_v = constant * Dw \n",
    "    return F_v"
   ]
  },
  {
   "cell_type": "code",
   "execution_count": 30,
   "metadata": {
    "scrolled": true
   },
   "outputs": [
    {
     "name": "stdout",
     "output_type": "stream",
     "text": [
      "4.007729797420883e-05\n",
      "0.0009618551513810119\n",
      "6532.361237716841\n"
     ]
    },
    {
     "data": {
      "image/png": "[encoded data removed]",
      "text/plain": [
       "<matplotlib.figure.Figure at 0x285231a5a20>"
      ]
     },
     "metadata": {},
     "output_type": "display_data"
    }
   ],
   "source": [
    "\"\"\"Main function\"\"\"\n",
    "time = 0\n",
    "step = math.pi*(360/24)/180 #angle between each QD, angle required for one step\n",
    "angle_increment = step/100\n",
    "PCs = permanent_charges( Rp, p , cd, vol) #initializes permanent charges\n",
    "\n",
    "\"\"\"Graphs of output results of interest\"\"\"\n",
    "fig = plt.figure(figsize=(12, 9))\n",
    "ax1 = fig.add_subplot(221)\n",
    "ax2 = fig.add_subplot(222)\n",
    "ax3 = fig.add_subplot(223)\n",
    "ax4 = fig.add_subplot(224)\n",
    "ax1.set_xlabel('gamma', fontsize = '20')\n",
    "ax1.set_ylabel('torque', fontsize = '20')\n",
    "ax1.set_ylim( 0 , 0.2e-20)\n",
    "ax2.set_xlabel('gamma', fontsize = '20')\n",
    "ax2.set_ylabel('angular velocity', fontsize = '20')\n",
    "ax2.set_ylim(0, 2e4)\n",
    "ax3.set_xlabel('gamma', fontsize = '20')\n",
    "ax3.set_ylabel('tau', fontsize = '20')\n",
    "ax3.set_ylim(0, 0.4e-5)\n",
    "ax4.set_xlabel('gamma', fontsize = '20')\n",
    "ax4.set_ylabel('power', fontsize = '20')\n",
    "ax4.set_ylim(0, 0.2e-16)\n",
    "\n",
    "\"\"\"Computation\"\"\"\n",
    "v_ang = [] #angular velocity\n",
    "v_a = 0\n",
    "v_ang.append( 0 ) #starting angluar velocity is 0\n",
    "i = 0\n",
    "T = []\n",
    "gamma_list = []\n",
    "I = intertia( ro, thc, Rp)\n",
    "for gamma in np.arange(0, step, angle_increment): #iterates angle increment until one step is completed\n",
    "    #F_t = tangential_component(n, e, R, r0, gamma) - viscous_force(n, eta, beta, Rp, r, v_ang, angle_increment, thc, i) #resultant tangential force\n",
    "    gamma_list.append( gamma )\n",
    "    F_t = tangential_component(n, e, R, r0, gamma)\n",
    "    T.append( torque(F_t, Rp, p) ) #calculates torque acting on inner rotor\n",
    "    #print ( \"torque=\" , T )\n",
    "    ax1.scatter(gamma, T[i] , color = 'r') #plots torque vs angle rotated\n",
    "    v_a = angular_velocity(angle_increment, v_ang, i, T[i], I) #calculates angular velocity after rotating by angle increment\n",
    "    #print ( \"v_ang=\" , v_a )\n",
    "    v_ang.append( v_a )\n",
    "    ax2.scatter(gamma, v_a, color = 'k') #plots angular velocity vs angle rotated\n",
    "    tau = time_step( I, T[i], v_ang ) #calculates time taken to rotate angle\n",
    "    ax3.scatter(gamma, tau, color = 'b') #plots time taken vs angle rotated\n",
    "    ax4.scatter(gamma, (v_a * T[i]), color = 'brown') #plots power vs angle rotated\n",
    "    time += tau #total time taken\n",
    "    i += 1 #needed to keep track of arrays; v_ang, T\n",
    "print (time)\n",
    "print (time * 24)\n",
    "print ((2 * math.pi)/(time * 24))\n",
    "plt.show()"
   ]
  },
  {
   "cell_type": "code",
   "execution_count": 44,
   "metadata": {
    "collapsed": true
   },
   "outputs": [],
   "source": [
    "def func(x, A, C):\n",
    "    return -A * (x**2) + C "
   ]
  },
  {
   "cell_type": "code",
   "execution_count": 52,
   "metadata": {},
   "outputs": [
    {
     "name": "stdout",
     "output_type": "stream",
     "text": [
      "[ 20.12319393   1.41669027]\n"
     ]
    }
   ],
   "source": [
    "for i in np.arange( 0, int(step/angle_increment) ):\n",
    "    T[i] = T[i] * 1e21\n",
    "\n",
    "popt, pcov = curve_fit(func, gamma_list, T)\n",
    "print ( popt )\n",
    "\n",
    "for i in np.arange( 0, int(step/angle_increment) ):\n",
    "    T[i] = T[i] * 1e-21"
   ]
  },
  {
   "cell_type": "code",
   "execution_count": 53,
   "metadata": {},
   "outputs": [
    {
     "name": "stderr",
     "output_type": "stream",
     "text": [
      "C:\\Users\\Pauli\\Anaconda3\\lib\\site-packages\\matplotlib\\cbook\\deprecation.py:106: MatplotlibDeprecationWarning: Adding an axes using the same arguments as a previous axes currently reuses the earlier instance.  In a future version, a new instance will always be created and returned.  Meanwhile, this warning can be suppressed, and the future behavior ensured, by passing a unique label to each axes instance.\n",
      "  warnings.warn(message, mplDeprecation, stacklevel=1)\n"
     ]
    },
    {
     "data": {
      "image/png": "[encoded data removed]",
      "text/plain": [
       "<matplotlib.figure.Figure at 0x2852121aa90>"
      ]
     },
     "metadata": {},
     "output_type": "display_data"
    }
   ],
   "source": [
    "A = popt[0]  \n",
    "C = popt[1] \n",
    "\n",
    "fig2 = plt.figure(figsize=(12, 9))\n",
    "bx1 = fig2.add_subplot(111)\n",
    "bx2 = fig2.add_subplot(111)\n",
    "bx1.set_xlabel('gamma', fontsize = '20')\n",
    "bx1.set_ylabel('torque', fontsize = '20')\n",
    "bx1.set_ylim( 0 , 0.2e-20)\n",
    "for i in np.arange( 0, int(step/angle_increment) ):\n",
    "    bx1.scatter( gamma_list[i], T[i], color = 'r' )\n",
    "    bx2.scatter( gamma_list[i], func(gamma_list[i], A, C) * 1e-21, color= 'g' )\n",
    "plt.show()"
   ]
  },
  {
   "cell_type": "code",
   "execution_count": 54,
   "metadata": {
    "collapsed": true
   },
   "outputs": [],
   "source": [
    "params = [(n/(2*I)) * ( math.log((Rp/(Rp-r))**2) + ((4*eta)/(3*Rp) + beta*(r))*thc ), A/I , C/I]\n",
    "# Make time array for solution\n",
    "tStop = 1e-9\n",
    "tInc = 1e-11\n",
    "t = np.arange(0.0, tStop, tInc)\n",
    "#initial conditions\n",
    "gamma0 = 0.0     # initial angular displacement\n",
    "w0 = 0.0     # initial angular velocity\n",
    "y0 = [gamma0, w0]"
   ]
  },
  {
   "cell_type": "code",
   "execution_count": 55,
   "metadata": {
    "collapsed": true
   },
   "outputs": [],
   "source": [
    "def coupled_ODEs( y, t, params):\n",
    "    gamma, w = y      # unpack current values of y\n",
    "    constant, A, C = params  # unpack parameters\n",
    "    derivs = [w, -constant*w + ( -A*(gamma**2) + C) * 1e-21 ] #f1 and f2\n",
    "    return derivs"
   ]
  },
  {
   "cell_type": "code",
   "execution_count": 56,
   "metadata": {},
   "outputs": [
    {
     "name": "stderr",
     "output_type": "stream",
     "text": [
      "C:\\Users\\Pauli\\Anaconda3\\lib\\site-packages\\scipy\\integrate\\odepack.py:218: ODEintWarning: Repeated convergence failures (perhaps bad Jacobian or tolerances). Run with full_output = 1 to get quantitative information.\n",
      "  warnings.warn(warning_msg, ODEintWarning)\n"
     ]
    },
    {
     "data": {
      "text/plain": [
       "Text(0,0.5,'gamma')"
      ]
     },
     "execution_count": 56,
     "metadata": {},
     "output_type": "execute_result"
    },
    {
     "data": {
      "image/png": "[encoded data removed]",
      "text/plain": [
       "<matplotlib.figure.Figure at 0x285210ee6a0>"
      ]
     },
     "metadata": {},
     "output_type": "display_data"
    }
   ],
   "source": [
    "psoln = odeint(coupled_ODEs, y0, t, args=(params,))\n",
    "# Plot results: gamma as function of t\n",
    "fig3 = plt.figure(figsize=(12, 9))\n",
    "\n",
    "cx1 = fig3.add_subplot(111)\n",
    "cx1.plot(t, psoln[:,0])\n",
    "cx1.set_xlabel('time')\n",
    "cx1.set_ylabel('gamma')"
   ]
  },
  {
   "cell_type": "code",
   "execution_count": null,
   "metadata": {
    "collapsed": true
   },
   "outputs": [],
   "source": []
  }
 ],
 "metadata": {
  "kernelspec": {
   "display_name": "Python 3",
   "language": "python",
   "name": "python3"
  },
  "language_info": {
   "codemirror_mode": {
    "name": "ipython",
    "version": 3
   },
   "file_extension": ".py",
   "mimetype": "text/x-python",
   "name": "python",
   "nbconvert_exporter": "python",
   "pygments_lexer": "ipython3",
   "version": "3.6.3"
  }
 },
 "nbformat": 4,
 "nbformat_minor": 2
}
