{
 "cells": [
  {
   "cell_type": "code",
   "execution_count": 1,
   "metadata": {
    "collapsed": true
   },
   "outputs": [],
   "source": [
    "import numpy as np\n",
    "import math\n",
    "import matplotlib.pyplot as plt\n",
    "from scipy.optimize import curve_fit\n",
    "from scipy.integrate import odeint\n",
    "\n",
    "%matplotlib inline"
   ]
  },
  {
   "cell_type": "code",
   "execution_count": 2,
   "metadata": {
    "collapsed": true
   },
   "outputs": [],
   "source": [
    "\"\"\"     ====>     initial parameters     <====     \"\"\"\n",
    "'''QDS'''\n",
    "n = 24   #number of QDs [no unit]\n",
    "R = 5.36290830288e-07   #radius of QD setup [m]\n",
    "diam = 20e-9    #diameter of QD (atm made up)[m]\n",
    "ts = 30e-9 #double quoted 15ns, time spent stopped between steps, time needed to discharge and charge quantum dot [s]\n",
    "'''Permanent Charges'''\n",
    "p = 12   #number of permanent charges (PCs) [no unit]\n",
    "Rp = 5.36290830288e-07 - 110e-9   #radius of rotating disc [m]\n",
    "r = Rp/3    #length of the cog shaft [m]\n",
    "thc = 30e-9   #approximate thickeness of inner disc [m]\n",
    "ro = 3e3 # desity of inner disc material (approxmiate) [kg/m^3]\n",
    "vol = 1   #applied voltage to capacitors in inner disck (\"permanent charges\"/charged segments) [V]\n",
    "cd = 0.394    #capacitance density in [F/m^2] of inner segment capacitors\n",
    "'''Other constants'''\n",
    "eps = 8.854e-12 #currently set to epsilon 0 [F/m]\n",
    "k = 1/(4*math.pi*eps)\n",
    "e = 1.60217662e-19 # [C]\n",
    "r0 = R - Rp   #distance between roatating disc and centre of QD setup above [m]\n",
    "fluid_density = 0.164 #helium\n",
    "kinematic_viscosity = 3.12e-5/fluid_density #helium absolute viscosity/density\n",
    "eta = kinematic_viscosity * fluid_density    #shear viscosity = kinematic viscosity * denisty of fluid\n",
    "beta = 0 #bulk viscoisty"
   ]
  },
  {
   "cell_type": "code",
   "execution_count": 3,
   "metadata": {
    "collapsed": true
   },
   "outputs": [],
   "source": [
    "def intertia( ro, thc, Rp):\n",
    "    \"\"\"Calculates inertia of inner rotating disk\"\"\"\n",
    "    I = 0.5 * ro * math.pi * thc * ( Rp ** 4 )\n",
    "    return I"
   ]
  },
  {
   "cell_type": "code",
   "execution_count": 4,
   "metadata": {
    "collapsed": true
   },
   "outputs": [],
   "source": [
    "def permanent_charge_magnitude( Rp, p , cd, vol):\n",
    "    \"\"\"Calculates magnitude of total charge stored in inner segment\"\"\"\n",
    "    segment_area = (3*math.pi*(Rp**2))/(4*p) #see notebook for deriviation (not correct for capacitor arms)\n",
    "    capacitance = cd * segment_area #capacitance of one segment\n",
    "    stored_charge = capacitance * vol #stored charge in one segment\n",
    "    return stored_charge"
   ]
  },
  {
   "cell_type": "code",
   "execution_count": 5,
   "metadata": {
    "collapsed": true
   },
   "outputs": [],
   "source": [
    "def permanent_charges( Rp, p , cd, vol):\n",
    "    \"\"\"Initializes permanent charge elements\"\"\"\n",
    "    PCs = {}\n",
    "    for i in range(p):\n",
    "        theta = (2*math.pi/p)*i\n",
    "        xp = Rp*math.cos(theta)\n",
    "        yp = Rp*math.sin(theta)\n",
    "        if i%2 == 0:\n",
    "            p_ch = permanent_charge_magnitude( Rp, p , cd, vol)\n",
    "        else:\n",
    "            p_ch = -permanent_charge_magnitude( Rp, p , cd, vol)\n",
    "        PCs.update({i:[xp,yp,theta, p_ch]}) #dictionary containing all info of permanent charges\n",
    "    return PCs"
   ]
  },
  {
   "cell_type": "code",
   "execution_count": 6,
   "metadata": {
    "collapsed": true
   },
   "outputs": [],
   "source": [
    "def quantum_dots( n, e):\n",
    "    \"\"\"Initializes quantum dot elements\"\"\"\n",
    "    QDs = {}\n",
    "    for i in range(n):\n",
    "        fi = (2*math.pi/n)*i\n",
    "        x = R*math.cos(fi)\n",
    "        y = R*math.sin(fi)\n",
    "        if i in range(1, 24, 4): #will result in +ve torque ==> turning anti-clockwise\n",
    "            q_ch = 2*e\n",
    "        elif i in range(3,24,4):\n",
    "            q_ch = -2*e\n",
    "        else:\n",
    "            q_ch = 0\n",
    "        QDs.update({i:[x,y,fi,q_ch]}) #dictionary containing all info on QDs\n",
    "    return QDs"
   ]
  },
  {
   "cell_type": "code",
   "execution_count": 7,
   "metadata": {
    "collapsed": true
   },
   "outputs": [],
   "source": [
    "def tangential_component(n, e, R, r0, gamma):\n",
    "    \"\"\"Calculates the tangential coulomb force on one inner charge\"\"\"\n",
    "    F_c = 0; #coulomb force\n",
    "    F_t = 0 #tangential component of coulumb force\n",
    "    QDs = quantum_dots(n,e) #calls function to initialize QDs\n",
    "    for i in range(n):\n",
    "        Q = QDs[i] #dictionary section on ith QD\n",
    "        ri = math.sqrt(2*R*(R-r0)*(1-math.cos(QDs[i][2]-gamma))+r0**2) #distance between QD and permanent charge\n",
    "        F_c = k*PCs[0][3]*Q[3]/(ri**2) #coulomb force between permanent charge and QD\n",
    "        d = 2*R*math.sin((QDs[i][2]-gamma)/2)\n",
    "        if (((r0**2)+(ri**2)-(d**2))/(2*r0*ri)) > 1 or (((r0**2)+(ri**2)-(d**2))/(2*r0*ri)) < -1 : #accounts for computational error\n",
    "            alpha = 0\n",
    "        else:\n",
    "            alpha = math.acos(((r0**2)+(ri**2)-(d**2))/(2*r0*ri)) #angle to tangential in which force vector acts\n",
    "        if i > n/2:\n",
    "            alpha = -alpha\n",
    "        F_t += F_c*math.sin(alpha) #???\n",
    "    return F_t"
   ]
  },
  {
   "cell_type": "code",
   "execution_count": 8,
   "metadata": {
    "collapsed": true
   },
   "outputs": [],
   "source": [
    "def torque (F_t, Rp, p):\n",
    "    \"\"\"Computes torque on enitre inner rotor\"\"\"\n",
    "    torque = F_t * Rp * p\n",
    "    return torque"
   ]
  },
  {
   "cell_type": "code",
   "execution_count": 9,
   "metadata": {
    "collapsed": true
   },
   "outputs": [],
   "source": [
    "def angular_velocity(angle_increment, v_ang, i, torque, inertia):\n",
    "    \"\"\"Calculates the angular velocity after rotating the angle increment\"\"\"\n",
    "    w_f = 0\n",
    "    w_f = math.sqrt( (v_ang[i])**2 + (2*torque*angle_increment)/inertia )\n",
    "    return w_f"
   ]
  },
  {
   "cell_type": "code",
   "execution_count": 10,
   "metadata": {
    "collapsed": true
   },
   "outputs": [],
   "source": [
    "def time_step(inertia, torque, v_ang):\n",
    "    \"\"\"Calculates time taken to reach new v_ang\"\"\"\n",
    "    tau = (v_ang[i] - v_ang[i-1])* inertia/torque\n",
    "    return tau"
   ]
  },
  {
   "cell_type": "code",
   "execution_count": 11,
   "metadata": {
    "collapsed": true
   },
   "outputs": [],
   "source": [
    "def Charging_energy( q, e, Cdot):\n",
    "    energy = (q*(e**2)/(2*Cdot))\n",
    "    return energy"
   ]
  },
  {
   "cell_type": "code",
   "execution_count": 12,
   "metadata": {
    "collapsed": true
   },
   "outputs": [],
   "source": [
    "def QD_capacitance( eps, d):\n",
    "    Cdot = 2*math.pi*eps*d\n",
    "    return Cdot"
   ]
  },
  {
   "cell_type": "code",
   "execution_count": 13,
   "metadata": {
    "collapsed": true
   },
   "outputs": [],
   "source": [
    "def Charging_time( Rt, Cdot):\n",
    "    tc = Rt * Cdot\n",
    "    return tc"
   ]
  },
  {
   "cell_type": "code",
   "execution_count": 14,
   "metadata": {
    "collapsed": true
   },
   "outputs": [],
   "source": [
    "def Input_power():\n",
    "    return p_in"
   ]
  },
  {
   "cell_type": "code",
   "execution_count": 15,
   "metadata": {
    "scrolled": true
   },
   "outputs": [
    {
     "name": "stdout",
     "output_type": "stream",
     "text": [
      "1.4426992150961694e-08\n",
      "3.462478116230807e-07\n",
      "2888104.8960638125\n"
     ]
    },
    {
     "data": {
      "image/png": "[encoded data removed]",
      "text/plain": [
       "<matplotlib.figure.Figure at 0x20855394320>"
      ]
     },
     "metadata": {},
     "output_type": "display_data"
    }
   ],
   "source": [
    "\"\"\"Main function\"\"\"\n",
    "time = 0\n",
    "step = math.pi*(360/24)/180 #angle between each QD, angle required for one step\n",
    "angle_increment = step/100\n",
    "PCs = permanent_charges( Rp, p , cd, vol) #initializes permanent charges\n",
    "\n",
    "\"\"\"Graphs of output results of interest\"\"\"\n",
    "fig = plt.figure(figsize=(12, 9))\n",
    "ax1 = fig.add_subplot(221)\n",
    "ax2 = fig.add_subplot(222)\n",
    "ax3 = fig.add_subplot(223)\n",
    "ax4 = fig.add_subplot(224)\n",
    "ax1.set_xlabel('gamma', fontsize = '20')\n",
    "ax1.set_ylabel('torque', fontsize = '20')\n",
    "ax1.set_ylim( 0 , 1.25e-14)\n",
    "ax2.set_xlabel('gamma', fontsize = '20')\n",
    "ax2.set_ylabel('angular velocity', fontsize = '20')\n",
    "ax2.set_ylim(0, 0.31e8)\n",
    "ax3.set_xlabel('gamma', fontsize = '20')\n",
    "ax3.set_ylabel('tau', fontsize = '20')\n",
    "ax3.set_ylim(0, 0.2e-8)\n",
    "ax4.set_xlabel('gamma', fontsize = '20')\n",
    "ax4.set_ylabel('power', fontsize = '20')\n",
    "ax4.set_ylim(0, 0.25e-6)\n",
    "\n",
    "\"\"\"Computation\"\"\"\n",
    "v_ang = [] #angular velocity\n",
    "v_a = 0\n",
    "v_ang.append( 0 ) #starting angluar velocity is 0\n",
    "i = 0\n",
    "T = []\n",
    "gamma_list = []\n",
    "I = intertia( ro, thc, Rp)\n",
    "for gamma in np.arange(0, step, angle_increment): #iterates angle increment until one step is completed\n",
    "    #F_t = tangential_component(n, e, R, r0, gamma) - viscous_force(n, eta, beta, Rp, r, v_ang, angle_increment, thc, i) #resultant tangential force\n",
    "    gamma_list.append( gamma )\n",
    "    F_t = tangential_component(n, e, R, r0, gamma)\n",
    "    T.append( torque(F_t, Rp, p) ) #calculates torque acting on inner rotor\n",
    "    #print ( \"torque=\" , T )\n",
    "    ax1.scatter(gamma, T[i] , color = 'r') #plots torque vs angle rotated\n",
    "    v_a = angular_velocity(angle_increment, v_ang, i, T[i], I) #calculates angular velocity after rotating by angle increment\n",
    "    #print ( \"v_ang=\" , v_a )\n",
    "    v_ang.append( v_a )\n",
    "    ax2.scatter(gamma, v_a, color = 'k') #plots angular velocity vs angle rotated\n",
    "    tau = time_step( I, T[i], v_ang ) #calculates time taken to rotate angle\n",
    "    ax3.scatter(gamma, tau, color = 'b') #plots time taken vs angle rotated\n",
    "    ax4.scatter(gamma, (v_a * T[i]), color = 'brown') #plots power vs angle rotated\n",
    "    time += tau #total time taken\n",
    "    i += 1 #needed to keep track of arrays; v_ang, T\n",
    "print (time)\n",
    "print (time * n)\n",
    "print ( 1/(time * n) )\n",
    "plt.show()"
   ]
  },
  {
   "cell_type": "code",
   "execution_count": 23,
   "metadata": {
    "collapsed": true
   },
   "outputs": [],
   "source": [
    "def func(x, A, C):\n",
    "    return A * (x**2) + C "
   ]
  },
  {
   "cell_type": "code",
   "execution_count": 24,
   "metadata": {
    "collapsed": true
   },
   "outputs": [],
   "source": [
    "for i in np.arange( 0, int(step/angle_increment) ):\n",
    "    T[i] = T[i] * 1e14\n",
    "\n",
    "popt, pcov = curve_fit(func, gamma_list, T)\n",
    "\n",
    "for i in np.arange( 0, int(step/angle_increment) ):\n",
    "    T[i] = T[i] * 1e-14"
   ]
  },
  {
   "cell_type": "code",
   "execution_count": 25,
   "metadata": {},
   "outputs": [
    {
     "name": "stdout",
     "output_type": "stream",
     "text": [
      "-1.45505776765e-13 1.10214833407e-14\n"
     ]
    },
    {
     "name": "stderr",
     "output_type": "stream",
     "text": [
      "C:\\Users\\Pauli\\Anaconda3\\lib\\site-packages\\matplotlib\\cbook\\deprecation.py:106: MatplotlibDeprecationWarning: Adding an axes using the same arguments as a previous axes currently reuses the earlier instance.  In a future version, a new instance will always be created and returned.  Meanwhile, this warning can be suppressed, and the future behavior ensured, by passing a unique label to each axes instance.\n",
      "  warnings.warn(message, mplDeprecation, stacklevel=1)\n"
     ]
    },
    {
     "data": {
      "image/png": "[encoded data removed]",
      "text/plain": [
       "<matplotlib.figure.Figure at 0x20855386dd8>"
      ]
     },
     "metadata": {},
     "output_type": "display_data"
    }
   ],
   "source": [
    "A = popt[0] * 1e-14\n",
    "C = popt[1] * 1e-14\n",
    "\n",
    "print (A, C)\n",
    "fig2 = plt.figure(figsize=(12, 9))\n",
    "bx1 = fig2.add_subplot(111)\n",
    "bx2 = fig2.add_subplot(111)\n",
    "bx1.set_xlabel('gamma', fontsize = '20')\n",
    "bx1.set_ylabel('torque', fontsize = '20')\n",
    "bx1.set_ylim( 0 , 1.25e-14)\n",
    "for i in np.arange( 0, int(step/angle_increment) ):\n",
    "    bx1.scatter( gamma_list[i], T[i], color = 'r' )\n",
    "    bx2.scatter( gamma_list[i], ( func(gamma_list[i], A, C) ), color= 'g' )\n",
    "plt.show()"
   ]
  },
  {
   "cell_type": "code",
   "execution_count": 39,
   "metadata": {
    "collapsed": true
   },
   "outputs": [],
   "source": [
    "def solvr( Y, t, params):\n",
    "    const, A, C = params\n",
    "    return [ Y[1], (A*(Y[0]**2) - const*Y[1] + C) ]"
   ]
  },
  {
   "cell_type": "code",
   "execution_count": 43,
   "metadata": {},
   "outputs": [
    {
     "name": "stdout",
     "output_type": "stream",
     "text": [
      "0.40546510810816455\n",
      "0.00040481636393519145\n",
      "[1.848194633891568e+19, -31166919965036844.0, 2360770113821723.5]\n"
     ]
    }
   ],
   "source": [
    "print (math.log( Rp/(Rp-r)) )\n",
    "constant = n/2 * ( 8*eta/3 * ( math.log( Rp/(Rp-r) ) ) + beta*r*thc ) #coefficient of drag force function\n",
    "print (constant)\n",
    "params = [ (constant* (Rp/2))/I , A/I, C/I ]\n",
    "print ( params )\n",
    "tStop = 0.04\n",
    "tInc = 1e-4\n",
    "t_array = np.arange( 0, tStop, tInc)\n",
    "sol = odeint( solvr, [0,0], t_array, args=(params,) )"
   ]
  },
  {
   "cell_type": "code",
   "execution_count": 41,
   "metadata": {},
   "outputs": [
    {
     "name": "stdout",
     "output_type": "stream",
     "text": [
      "[[  0.00000000e+00   0.00000000e+00]\n",
      " [  1.27733847e-08   1.27733847e-04]\n",
      " [  2.55467695e-08   1.27733847e-04]\n",
      " [  3.83201542e-08   1.27733847e-04]\n",
      " [  5.10935390e-08   1.27733847e-04]\n",
      " [  6.38669237e-08   1.27733847e-04]\n",
      " [  7.66403085e-08   1.27733847e-04]\n",
      " [  8.94136932e-08   1.27733847e-04]\n",
      " [  1.02187078e-07   1.27733847e-04]\n",
      " [  1.14960463e-07   1.27733847e-04]\n",
      " [  1.27733847e-07   1.27733847e-04]\n",
      " [  1.40507232e-07   1.27733847e-04]\n",
      " [  1.53280617e-07   1.27733847e-04]\n",
      " [  1.66054002e-07   1.27733847e-04]\n",
      " [  1.78827386e-07   1.27733847e-04]\n",
      " [  1.91600771e-07   1.27733847e-04]\n",
      " [  2.04374156e-07   1.27733847e-04]\n",
      " [  2.17147541e-07   1.27733847e-04]\n",
      " [  2.29920925e-07   1.27733847e-04]\n",
      " [  2.42694310e-07   1.27733847e-04]\n",
      " [  2.55467695e-07   1.27733847e-04]\n",
      " [  2.68241080e-07   1.27733847e-04]\n",
      " [  2.81014464e-07   1.27733847e-04]\n",
      " [  2.93787849e-07   1.27733847e-04]\n",
      " [  3.06561234e-07   1.27733847e-04]\n",
      " [  3.19334619e-07   1.27733847e-04]\n",
      " [  3.32108003e-07   1.27733847e-04]\n",
      " [  3.44881388e-07   1.27733847e-04]\n",
      " [  3.57654773e-07   1.27733847e-04]\n",
      " [  3.70428158e-07   1.27733847e-04]\n",
      " [  3.83201542e-07   1.27733847e-04]\n",
      " [  3.95974927e-07   1.27733847e-04]\n",
      " [  4.08748312e-07   1.27733847e-04]\n",
      " [  4.21521697e-07   1.27733847e-04]\n",
      " [  4.34295081e-07   1.27733847e-04]\n",
      " [  4.47068466e-07   1.27733847e-04]\n",
      " [  4.59841851e-07   1.27733847e-04]\n",
      " [  4.72615235e-07   1.27733847e-04]\n",
      " [  4.85388620e-07   1.27733847e-04]\n",
      " [  4.98162005e-07   1.27733847e-04]\n",
      " [  5.10935390e-07   1.27733847e-04]\n",
      " [  5.23708774e-07   1.27733847e-04]\n",
      " [  5.36482159e-07   1.27733847e-04]\n",
      " [  5.49255544e-07   1.27733847e-04]\n",
      " [  5.62028929e-07   1.27733847e-04]\n",
      " [  5.74802313e-07   1.27733847e-04]\n",
      " [  5.87575698e-07   1.27733847e-04]\n",
      " [  6.00349083e-07   1.27733847e-04]\n",
      " [  6.13122468e-07   1.27733847e-04]\n",
      " [  6.25895852e-07   1.27733847e-04]\n",
      " [  6.38669237e-07   1.27733847e-04]\n",
      " [  6.51442622e-07   1.27733847e-04]\n",
      " [  6.64216007e-07   1.27733847e-04]\n",
      " [  6.76989391e-07   1.27733847e-04]\n",
      " [  6.89762776e-07   1.27733847e-04]\n",
      " [  7.02536161e-07   1.27733847e-04]\n",
      " [  7.15309546e-07   1.27733847e-04]\n",
      " [  7.28082930e-07   1.27733847e-04]\n",
      " [  7.40856315e-07   1.27733847e-04]\n",
      " [  7.53629700e-07   1.27733847e-04]\n",
      " [  7.66403085e-07   1.27733847e-04]\n",
      " [  7.79176469e-07   1.27733847e-04]\n",
      " [  7.91949854e-07   1.27733847e-04]\n",
      " [  8.04723239e-07   1.27733847e-04]\n",
      " [  8.17496624e-07   1.27733847e-04]\n",
      " [  8.30270008e-07   1.27733847e-04]\n",
      " [  8.43043393e-07   1.27733847e-04]\n",
      " [  8.55816778e-07   1.27733847e-04]\n",
      " [  8.68590162e-07   1.27733847e-04]\n",
      " [  8.81363547e-07   1.27733847e-04]\n",
      " [  8.94136932e-07   1.27733847e-04]\n",
      " [  9.06910317e-07   1.27733847e-04]\n",
      " [  9.19683701e-07   1.27733847e-04]\n",
      " [  9.32457086e-07   1.27733847e-04]\n",
      " [  9.45230471e-07   1.27733847e-04]\n",
      " [  9.58003856e-07   1.27733847e-04]\n",
      " [  9.70777240e-07   1.27733847e-04]\n",
      " [  9.83550625e-07   1.27733847e-04]\n",
      " [  9.96324010e-07   1.27733847e-04]\n",
      " [  1.00909739e-06   1.27733847e-04]\n",
      " [  1.02187078e-06   1.27733847e-04]\n",
      " [  1.03464416e-06   1.27733847e-04]\n",
      " [  1.04741755e-06   1.27733847e-04]\n",
      " [  1.06019093e-06   1.27733847e-04]\n",
      " [  1.07296432e-06   1.27733847e-04]\n",
      " [  1.08573770e-06   1.27733847e-04]\n",
      " [  1.09851109e-06   1.27733847e-04]\n",
      " [  1.11128447e-06   1.27733847e-04]\n",
      " [  1.12405786e-06   1.27733847e-04]\n",
      " [  1.13683124e-06   1.27733847e-04]\n",
      " [  1.14960463e-06   1.27733847e-04]\n",
      " [  1.16237801e-06   1.27733847e-04]\n",
      " [  1.17515140e-06   1.27733847e-04]\n",
      " [  1.18792478e-06   1.27733847e-04]\n",
      " [  1.20069817e-06   1.27733847e-04]\n",
      " [  1.21347155e-06   1.27733847e-04]\n",
      " [  1.22624494e-06   1.27733847e-04]\n",
      " [  1.23901832e-06   1.27733847e-04]\n",
      " [  1.25179170e-06   1.27733847e-04]\n",
      " [  1.26456509e-06   1.27733847e-04]\n",
      " [  1.27733847e-06   1.27733847e-04]\n",
      " [  1.29011186e-06   1.27733847e-04]\n",
      " [  1.30288524e-06   1.27733847e-04]\n",
      " [  1.31565863e-06   1.27733847e-04]\n",
      " [  1.32843201e-06   1.27733847e-04]\n",
      " [  1.34120540e-06   1.27733847e-04]\n",
      " [  1.35397878e-06   1.27733847e-04]\n",
      " [  1.36675217e-06   1.27733847e-04]\n",
      " [  1.37952555e-06   1.27733847e-04]\n",
      " [  1.39229894e-06   1.27733847e-04]\n",
      " [  1.40507232e-06   1.27733847e-04]\n",
      " [  1.41784571e-06   1.27733847e-04]\n",
      " [  1.43061909e-06   1.27733847e-04]\n",
      " [  1.44339248e-06   1.27733847e-04]\n",
      " [  1.45616586e-06   1.27733847e-04]\n",
      " [  1.46893925e-06   1.27733847e-04]\n",
      " [  1.48171263e-06   1.27733847e-04]\n",
      " [  1.49448601e-06   1.27733847e-04]\n",
      " [  1.50725940e-06   1.27733847e-04]\n",
      " [  1.52003278e-06   1.27733847e-04]\n",
      " [  1.53280617e-06   1.27733847e-04]\n",
      " [  1.54557955e-06   1.27733847e-04]\n",
      " [  1.55835294e-06   1.27733847e-04]\n",
      " [  1.57112632e-06   1.27733847e-04]\n",
      " [  1.58389971e-06   1.27733847e-04]\n",
      " [  1.59667309e-06   1.27733847e-04]\n",
      " [  1.60944648e-06   1.27733847e-04]\n",
      " [  1.62221986e-06   1.27733847e-04]\n",
      " [  1.63499325e-06   1.27733847e-04]\n",
      " [  1.64776663e-06   1.27733847e-04]\n",
      " [  1.66054002e-06   1.27733847e-04]\n",
      " [  1.67331340e-06   1.27733847e-04]\n",
      " [  1.68608679e-06   1.27733847e-04]\n",
      " [  1.69886017e-06   1.27733847e-04]\n",
      " [  1.71163356e-06   1.27733847e-04]\n",
      " [  1.72440694e-06   1.27733847e-04]\n",
      " [  1.73718032e-06   1.27733847e-04]\n",
      " [  1.74995371e-06   1.27733847e-04]\n",
      " [  1.76272709e-06   1.27733847e-04]\n",
      " [  1.77550048e-06   1.27733847e-04]\n",
      " [  1.78827386e-06   1.27733847e-04]\n",
      " [  1.80104725e-06   1.27733847e-04]\n",
      " [  1.81382063e-06   1.27733847e-04]\n",
      " [  1.82659402e-06   1.27733847e-04]\n",
      " [  1.83936740e-06   1.27733847e-04]\n",
      " [  1.85214079e-06   1.27733847e-04]\n",
      " [  1.86491417e-06   1.27733847e-04]\n",
      " [  1.87768756e-06   1.27733847e-04]\n",
      " [  1.89046094e-06   1.27733847e-04]\n",
      " [  1.90323433e-06   1.27733847e-04]\n",
      " [  1.91600771e-06   1.27733847e-04]\n",
      " [  1.92878110e-06   1.27733847e-04]\n",
      " [  1.94155448e-06   1.27733847e-04]\n",
      " [  1.95432787e-06   1.27733847e-04]\n",
      " [  1.96710125e-06   1.27733847e-04]\n",
      " [  1.97987464e-06   1.27733847e-04]\n",
      " [  1.99264802e-06   1.27733847e-04]\n",
      " [  2.00542140e-06   1.27733847e-04]\n",
      " [  2.01819479e-06   1.27733847e-04]\n",
      " [  2.03096817e-06   1.27733847e-04]\n",
      " [  2.04374156e-06   1.27733847e-04]\n",
      " [  2.05651494e-06   1.27733847e-04]\n",
      " [  2.06928833e-06   1.27733847e-04]\n",
      " [  2.08206171e-06   1.27733847e-04]\n",
      " [  2.09483510e-06   1.27733847e-04]\n",
      " [  2.10760848e-06   1.27733847e-04]\n",
      " [  2.12038187e-06   1.27733847e-04]\n",
      " [  2.13315525e-06   1.27733847e-04]\n",
      " [  2.14592864e-06   1.27733847e-04]\n",
      " [  2.15870202e-06   1.27733847e-04]\n",
      " [  2.17147541e-06   1.27733847e-04]\n",
      " [  2.18424879e-06   1.27733847e-04]\n",
      " [  2.19702218e-06   1.27733847e-04]\n",
      " [  2.20979556e-06   1.27733847e-04]\n",
      " [  2.22256895e-06   1.27733847e-04]\n",
      " [  2.23534233e-06   1.27733847e-04]\n",
      " [  2.24811571e-06   1.27733847e-04]\n",
      " [  2.26088910e-06   1.27733847e-04]\n",
      " [  2.27366248e-06   1.27733847e-04]\n",
      " [  2.28643587e-06   1.27733847e-04]\n",
      " [  2.29920925e-06   1.27733847e-04]\n",
      " [  2.31198264e-06   1.27733847e-04]\n",
      " [  2.32475602e-06   1.27733847e-04]\n",
      " [  2.33752941e-06   1.27733847e-04]\n",
      " [  2.35030279e-06   1.27733847e-04]\n",
      " [  2.36307618e-06   1.27733847e-04]\n",
      " [  2.37584956e-06   1.27733847e-04]\n",
      " [  2.38862295e-06   1.27733847e-04]\n",
      " [  2.40139633e-06   1.27733847e-04]\n",
      " [  2.41416972e-06   1.27733847e-04]\n",
      " [  2.42694310e-06   1.27733847e-04]\n",
      " [  2.43971649e-06   1.27733847e-04]\n",
      " [  2.45248987e-06   1.27733847e-04]\n",
      " [  2.46526326e-06   1.27733847e-04]\n",
      " [  2.47803664e-06   1.27733847e-04]\n",
      " [  2.49081002e-06   1.27733847e-04]\n",
      " [  2.50358341e-06   1.27733847e-04]\n",
      " [  2.51635679e-06   1.27733847e-04]\n",
      " [  2.52913018e-06   1.27733847e-04]\n",
      " [  2.54190356e-06   1.27733847e-04]\n",
      " [  2.55467695e-06   1.27733847e-04]\n",
      " [  2.56745033e-06   1.27733847e-04]\n",
      " [  2.58022372e-06   1.27733847e-04]\n",
      " [  2.59299710e-06   1.27733847e-04]\n",
      " [  2.60577049e-06   1.27733847e-04]\n",
      " [  2.61854387e-06   1.27733847e-04]\n",
      " [  2.63131726e-06   1.27733847e-04]\n",
      " [  2.64409064e-06   1.27733847e-04]\n",
      " [  2.65686403e-06   1.27733847e-04]\n",
      " [  2.66963741e-06   1.27733847e-04]\n",
      " [  2.68241080e-06   1.27733847e-04]\n",
      " [  2.69518418e-06   1.27733847e-04]\n",
      " [  2.70795757e-06   1.27733847e-04]\n",
      " [  2.72073095e-06   1.27733847e-04]\n",
      " [  2.73350433e-06   1.27733847e-04]\n",
      " [  2.74627772e-06   1.27733847e-04]\n",
      " [  2.75905110e-06   1.27733847e-04]\n",
      " [  2.77182449e-06   1.27733847e-04]\n",
      " [  2.78459787e-06   1.27733847e-04]\n",
      " [  2.79737126e-06   1.27733847e-04]\n",
      " [  2.81014464e-06   1.27733847e-04]\n",
      " [  2.82291803e-06   1.27733847e-04]\n",
      " [  2.83569141e-06   1.27733847e-04]\n",
      " [  2.84846480e-06   1.27733847e-04]\n",
      " [  2.86123818e-06   1.27733847e-04]\n",
      " [  2.87401157e-06   1.27733847e-04]\n",
      " [  2.88678495e-06   1.27733847e-04]\n",
      " [  2.89955834e-06   1.27733847e-04]\n",
      " [  2.91233172e-06   1.27733847e-04]\n",
      " [  2.92510511e-06   1.27733847e-04]\n",
      " [  2.93787849e-06   1.27733847e-04]\n",
      " [  2.95065188e-06   1.27733847e-04]\n",
      " [  2.96342526e-06   1.27733847e-04]\n",
      " [  2.97619864e-06   1.27733847e-04]\n",
      " [  2.98897203e-06   1.27733847e-04]\n",
      " [  3.00174541e-06   1.27733847e-04]\n",
      " [  3.01451880e-06   1.27733847e-04]\n",
      " [  3.02729218e-06   1.27733847e-04]\n",
      " [  3.04006557e-06   1.27733847e-04]\n",
      " [  3.05283895e-06   1.27733847e-04]\n",
      " [  3.06561234e-06   1.27733847e-04]\n",
      " [  3.07838572e-06   1.27733847e-04]\n",
      " [  3.09115911e-06   1.27733847e-04]\n",
      " [  3.10393249e-06   1.27733847e-04]\n",
      " [  3.11670588e-06   1.27733847e-04]\n",
      " [  3.12947926e-06   1.27733847e-04]\n",
      " [  3.14225265e-06   1.27733847e-04]\n",
      " [  3.15502603e-06   1.27733847e-04]\n",
      " [  3.16779942e-06   1.27733847e-04]\n",
      " [  3.18057280e-06   1.27733847e-04]\n",
      " [  3.19334619e-06   1.27733847e-04]\n",
      " [  3.20611957e-06   1.27733847e-04]\n",
      " [  3.21889295e-06   1.27733847e-04]\n",
      " [  3.23166634e-06   1.27733847e-04]\n",
      " [  3.24443972e-06   1.27733847e-04]\n",
      " [  3.25721311e-06   1.27733847e-04]\n",
      " [  3.26998649e-06   1.27733847e-04]\n",
      " [  3.28275988e-06   1.27733847e-04]\n",
      " [  3.29553326e-06   1.27733847e-04]\n",
      " [  3.30830665e-06   1.27733847e-04]\n",
      " [  3.32108003e-06   1.27733847e-04]\n",
      " [  3.33385342e-06   1.27733847e-04]\n",
      " [  3.34662680e-06   1.27733847e-04]\n",
      " [  3.35940019e-06   1.27733847e-04]\n",
      " [  3.37217357e-06   1.27733847e-04]\n",
      " [  3.38494696e-06   1.27733847e-04]\n",
      " [  3.39772034e-06   1.27733847e-04]\n",
      " [  3.41049373e-06   1.27733847e-04]\n",
      " [  3.42326711e-06   1.27733847e-04]\n",
      " [  3.43604050e-06   1.27733847e-04]\n",
      " [  3.44881388e-06   1.27733847e-04]\n",
      " [  3.46158726e-06   1.27733847e-04]\n",
      " [  3.47436065e-06   1.27733847e-04]\n",
      " [  3.48713403e-06   1.27733847e-04]\n",
      " [  3.49990742e-06   1.27733847e-04]\n",
      " [  3.51268080e-06   1.27733847e-04]\n",
      " [  3.52545419e-06   1.27733847e-04]\n",
      " [  3.53822757e-06   1.27733847e-04]\n",
      " [  3.55100096e-06   1.27733847e-04]\n",
      " [  3.56377434e-06   1.27733847e-04]\n",
      " [  3.57654773e-06   1.27733847e-04]\n",
      " [  3.58932111e-06   1.27733847e-04]\n",
      " [  3.60209450e-06   1.27733847e-04]\n",
      " [  3.61486788e-06   1.27733847e-04]\n",
      " [  3.62764127e-06   1.27733847e-04]\n",
      " [  3.64041465e-06   1.27733847e-04]\n",
      " [  3.65318804e-06   1.27733847e-04]\n",
      " [  3.66596142e-06   1.27733847e-04]\n",
      " [  3.67873481e-06   1.27733847e-04]\n",
      " [  3.69150819e-06   1.27733847e-04]\n",
      " [  3.70428157e-06   1.27733847e-04]\n",
      " [  3.71705496e-06   1.27733847e-04]\n",
      " [  3.72982834e-06   1.27733847e-04]\n",
      " [  3.74260173e-06   1.27733847e-04]\n",
      " [  3.75537511e-06   1.27733847e-04]\n",
      " [  3.76814850e-06   1.27733847e-04]\n",
      " [  3.78092188e-06   1.27733847e-04]\n",
      " [  3.79369527e-06   1.27733847e-04]\n",
      " [  3.80646865e-06   1.27733847e-04]\n",
      " [  3.81924204e-06   1.27733847e-04]\n",
      " [  3.83201542e-06   1.27733847e-04]\n",
      " [  3.84478881e-06   1.27733847e-04]\n",
      " [  3.85756219e-06   1.27733847e-04]\n",
      " [  3.87033558e-06   1.27733847e-04]\n",
      " [  3.88310896e-06   1.27733847e-04]\n",
      " [  3.89588235e-06   1.27733847e-04]\n",
      " [  3.90865573e-06   1.27733847e-04]\n",
      " [  3.92142912e-06   1.27733847e-04]\n",
      " [  3.93420250e-06   1.27733847e-04]\n",
      " [  3.94697588e-06   1.27733847e-04]\n",
      " [  3.95974927e-06   1.27733847e-04]\n",
      " [  3.97252265e-06   1.27733847e-04]\n",
      " [  3.98529604e-06   1.27733847e-04]\n",
      " [  3.99806942e-06   1.27733847e-04]\n",
      " [  4.01084281e-06   1.27733847e-04]\n",
      " [  4.02361619e-06   1.27733847e-04]\n",
      " [  4.03638958e-06   1.27733847e-04]\n",
      " [  4.04916296e-06   1.27733847e-04]\n",
      " [  4.06193635e-06   1.27733847e-04]\n",
      " [  4.07470973e-06   1.27733847e-04]\n",
      " [  4.08748312e-06   1.27733847e-04]\n",
      " [  4.10025650e-06   1.27733847e-04]\n",
      " [  4.11302989e-06   1.27733847e-04]\n",
      " [  4.12580327e-06   1.27733847e-04]\n",
      " [  4.13857666e-06   1.27733847e-04]\n",
      " [  4.15135004e-06   1.27733847e-04]\n",
      " [  4.16412343e-06   1.27733847e-04]\n",
      " [  4.17689681e-06   1.27733847e-04]\n",
      " [  4.18967020e-06   1.27733847e-04]\n",
      " [  4.20244358e-06   1.27733847e-04]\n",
      " [  4.21521696e-06   1.27733847e-04]\n",
      " [  4.22799035e-06   1.27733847e-04]\n",
      " [  4.24076373e-06   1.27733847e-04]\n",
      " [  4.25353712e-06   1.27733847e-04]\n",
      " [  4.26631050e-06   1.27733847e-04]\n",
      " [  4.27908389e-06   1.27733847e-04]\n",
      " [  4.29185727e-06   1.27733847e-04]\n",
      " [  4.30463066e-06   1.27733847e-04]\n",
      " [  4.31740404e-06   1.27733847e-04]\n",
      " [  4.33017743e-06   1.27733847e-04]\n",
      " [  4.34295081e-06   1.27733847e-04]\n",
      " [  4.35572420e-06   1.27733847e-04]\n",
      " [  4.36849758e-06   1.27733847e-04]\n",
      " [  4.38127097e-06   1.27733847e-04]\n",
      " [  4.39404435e-06   1.27733847e-04]\n",
      " [  4.40681774e-06   1.27733847e-04]\n",
      " [  4.41959112e-06   1.27733847e-04]\n",
      " [  4.43236451e-06   1.27733847e-04]\n",
      " [  4.44513789e-06   1.27733847e-04]\n",
      " [  4.45791127e-06   1.27733847e-04]\n",
      " [  4.47068466e-06   1.27733847e-04]\n",
      " [  4.48345804e-06   1.27733847e-04]\n",
      " [  4.49623143e-06   1.27733847e-04]\n",
      " [  4.50900481e-06   1.27733847e-04]\n",
      " [  4.52177820e-06   1.27733847e-04]\n",
      " [  4.53455158e-06   1.27733847e-04]\n",
      " [  4.54732497e-06   1.27733847e-04]\n",
      " [  4.56009835e-06   1.27733847e-04]\n",
      " [  4.57287174e-06   1.27733847e-04]\n",
      " [  4.58564512e-06   1.27733847e-04]\n",
      " [  4.59841851e-06   1.27733847e-04]\n",
      " [  4.61119189e-06   1.27733847e-04]\n",
      " [  4.62396528e-06   1.27733847e-04]\n",
      " [  4.63673866e-06   1.27733847e-04]\n",
      " [  4.64951204e-06   1.27733847e-04]\n",
      " [  4.66228543e-06   1.27733847e-04]\n",
      " [  4.67505881e-06   1.27733847e-04]\n",
      " [  4.68783220e-06   1.27733847e-04]\n",
      " [  4.70060558e-06   1.27733847e-04]\n",
      " [  4.71337897e-06   1.27733847e-04]\n",
      " [  4.72615235e-06   1.27733847e-04]\n",
      " [  4.73892574e-06   1.27733847e-04]\n",
      " [  4.75169912e-06   1.27733847e-04]\n",
      " [  4.76447251e-06   1.27733847e-04]\n",
      " [  4.77724589e-06   1.27733847e-04]\n",
      " [  4.79001928e-06   1.27733847e-04]\n",
      " [  4.80279266e-06   1.27733847e-04]\n",
      " [  4.81556604e-06   1.27733847e-04]\n",
      " [  4.82833943e-06   1.27733847e-04]\n",
      " [  4.84111281e-06   1.27733847e-04]\n",
      " [  4.85388620e-06   1.27733847e-04]\n",
      " [  4.86665958e-06   1.27733847e-04]\n",
      " [  4.87943297e-06   1.27733847e-04]\n",
      " [  4.89220635e-06   1.27733847e-04]\n",
      " [  4.90497974e-06   1.27733847e-04]\n",
      " [  4.91775312e-06   1.27733847e-04]\n",
      " [  4.93052651e-06   1.27733847e-04]\n",
      " [  4.94329989e-06   1.27733847e-04]\n",
      " [  4.95607328e-06   1.27733847e-04]\n",
      " [  4.96884666e-06   1.27733847e-04]\n",
      " [  4.98162005e-06   1.27733847e-04]\n",
      " [  4.99439343e-06   1.27733847e-04]\n",
      " [  5.00716681e-06   1.27733847e-04]\n",
      " [  5.01994020e-06   1.27733847e-04]\n",
      " [  5.03271358e-06   1.27733847e-04]\n",
      " [  5.04548697e-06   1.27733847e-04]\n",
      " [  5.05826035e-06   1.27733847e-04]\n",
      " [  5.07103374e-06   1.27733847e-04]\n",
      " [  5.08380712e-06   1.27733847e-04]\n",
      " [  5.09658051e-06   1.27733847e-04]]\n"
     ]
    }
   ],
   "source": [
    "print (sol)"
   ]
  },
  {
   "cell_type": "code",
   "execution_count": 42,
   "metadata": {},
   "outputs": [
    {
     "data": {
      "image/png": "[encoded data removed]",
      "text/plain": [
       "<matplotlib.figure.Figure at 0x20855ab0f98>"
      ]
     },
     "metadata": {},
     "output_type": "display_data"
    }
   ],
   "source": [
    "# Plot results: gamma as function of t\n",
    "fig3 = plt.figure(figsize=(12, 9))\n",
    "cx1 = fig3.add_subplot(211)\n",
    "cx1.set_xlabel('time')\n",
    "cx1.set_ylabel('gamma')\n",
    "cx1.set_ylim( 0 , 0.27 )\n",
    "cx1.set_xlim( 0 , tStop )\n",
    "cx2 = fig3.add_subplot(212)\n",
    "cx2.set_xlabel('time')\n",
    "cx2.set_ylabel('w')\n",
    "cx2.set_ylim( 0 , 15 )\n",
    "cx2.set_xlim( 0 , tStop )\n",
    "for i in np.arange( 0, len(t_array) ):\n",
    "    cx1.scatter( t_array[i], sol[i][0], color='r' )\n",
    "    cx2.scatter( t_array[i], sol[i][1], color='b' )\n",
    "plt.show()"
   ]
  },
  {
   "cell_type": "code",
   "execution_count": 117,
   "metadata": {},
   "outputs": [
    {
     "name": "stdout",
     "output_type": "stream",
     "text": [
      "0.0385\n",
      "0.924\n",
      "1.08225108225\n"
     ]
    }
   ],
   "source": [
    "for i in np.arange( 0, len(t_array) ):\n",
    "    if sol[i][0] >= step:\n",
    "        step_time = t_array[i]\n",
    "        break\n",
    "print (step_time)\n",
    "print (step_time * n)\n",
    "print ( 1/(step_time * n) )"
   ]
  },
  {
   "cell_type": "code",
   "execution_count": null,
   "metadata": {
    "collapsed": true
   },
   "outputs": [],
   "source": [
    "accel = []\n",
    "for i in np.arange( 1, len(t_array) ):\n",
    "    accel.append( (sol[i][1] - sol[i-1][1])/tInc )\n",
    "print (accel)"
   ]
  },
  {
   "cell_type": "code",
   "execution_count": 113,
   "metadata": {},
   "outputs": [
    {
     "data": {
      "image/png": "[encoded data removed]",
      "text/plain": [
       "<matplotlib.figure.Figure at 0x20d05424128>"
      ]
     },
     "metadata": {},
     "output_type": "display_data"
    }
   ],
   "source": [
    "fig4 = plt.figure(figsize=(12, 9))\n",
    "dx1 = fig4.add_subplot(111)\n",
    "dx1.set_xlabel('gamma')\n",
    "dx1.set_ylabel('w')\n",
    "dx1.set_ylim( 0 , 15 )\n",
    "dx1.set_xlim( 0 , 0.3)\n",
    "for i in np.arange( 0, len(t_array) ):\n",
    "    dx1.scatter( sol[i][0], sol[i][1], color='r' )\n",
    "plt.show()def flagella( Y, t, params):\n",
    "    const, F = params\n",
    "    return [ Y[1], F - const*Y[1] ]"
   ]
  },
  {
   "cell_type": "code",
   "execution_count": null,
   "metadata": {
    "collapsed": true
   },
   "outputs": [],
   "source": [
    "def flagella( Y, t, params):\n",
    "    const, F = params\n",
    "    return [ Y[1], F - const*Y[1] ]"
   ]
  },
  {
   "cell_type": "code",
   "execution_count": null,
   "metadata": {
    "collapsed": true
   },
   "outputs": [],
   "source": [
    "params = [ constant/I, 4500e-21]"
   ]
  }
 ],
 "metadata": {
  "kernelspec": {
   "display_name": "Python 3",
   "language": "python",
   "name": "python3"
  },
  "language_info": {
   "codemirror_mode": {
    "name": "ipython",
    "version": 3
   },
   "file_extension": ".py",
   "mimetype": "text/x-python",
   "name": "python",
   "nbconvert_exporter": "python",
   "pygments_lexer": "ipython3",
   "version": "3.6.3"
  }
 },
 "nbformat": 4,
 "nbformat_minor": 2
}
